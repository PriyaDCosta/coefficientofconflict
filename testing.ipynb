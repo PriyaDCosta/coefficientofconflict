{
 "cells": [
  {
   "cell_type": "code",
   "execution_count": 1,
   "metadata": {},
   "outputs": [
    {
     "name": "stderr",
     "output_type": "stream",
     "text": [
      "/Library/Frameworks/Python.framework/Versions/3.10/lib/python3.10/site-packages/umap/distances.py:1063: NumbaDeprecationWarning: \u001b[1mThe 'nopython' keyword argument was not supplied to the 'numba.jit' decorator. The implicit default value for this argument is currently False, but it will be changed to True in Numba 0.59.0. See https://numba.readthedocs.io/en/stable/reference/deprecation.html#deprecation-of-object-mode-fall-back-behaviour-when-using-jit for details.\u001b[0m\n",
      "  @numba.jit()\n",
      "/Library/Frameworks/Python.framework/Versions/3.10/lib/python3.10/site-packages/umap/distances.py:1071: NumbaDeprecationWarning: \u001b[1mThe 'nopython' keyword argument was not supplied to the 'numba.jit' decorator. The implicit default value for this argument is currently False, but it will be changed to True in Numba 0.59.0. See https://numba.readthedocs.io/en/stable/reference/deprecation.html#deprecation-of-object-mode-fall-back-behaviour-when-using-jit for details.\u001b[0m\n",
      "  @numba.jit()\n",
      "/Library/Frameworks/Python.framework/Versions/3.10/lib/python3.10/site-packages/umap/distances.py:1086: NumbaDeprecationWarning: \u001b[1mThe 'nopython' keyword argument was not supplied to the 'numba.jit' decorator. The implicit default value for this argument is currently False, but it will be changed to True in Numba 0.59.0. See https://numba.readthedocs.io/en/stable/reference/deprecation.html#deprecation-of-object-mode-fall-back-behaviour-when-using-jit for details.\u001b[0m\n",
      "  @numba.jit()\n",
      "/Library/Frameworks/Python.framework/Versions/3.10/lib/python3.10/site-packages/umap/umap_.py:660: NumbaDeprecationWarning: \u001b[1mThe 'nopython' keyword argument was not supplied to the 'numba.jit' decorator. The implicit default value for this argument is currently False, but it will be changed to True in Numba 0.59.0. See https://numba.readthedocs.io/en/stable/reference/deprecation.html#deprecation-of-object-mode-fall-back-behaviour-when-using-jit for details.\u001b[0m\n",
      "  @numba.jit()\n"
     ]
    }
   ],
   "source": [
    "from stage1_models import *\n",
    "from stage2_models import *\n",
    "from conflict_utils import *\n",
    "from key import *"
   ]
  },
  {
   "cell_type": "code",
   "execution_count": 2,
   "metadata": {},
   "outputs": [],
   "source": [
    "#Load the dataset with all the TPM features\n",
    "\n",
    "train_tpm = unpickle_embeddings(\"/Users/priyadcosta/Documents/GitHub/coefficientofconflict/sandbox/embeddings/initial_inputs/tpm_hand_labeled.pickle\") #Hand labeled data\n",
    "test_tpm = unpickle_embeddings(\"/Users/priyadcosta/Documents/GitHub/coefficientofconflict/sandbox/embeddings/initial_inputs/tpm_non_hand_labeled.pickle\") "
   ]
  },
  {
   "cell_type": "code",
   "execution_count": 3,
   "metadata": {},
   "outputs": [
    {
     "name": "stderr",
     "output_type": "stream",
     "text": [
      "/Library/Frameworks/Python.framework/Versions/3.10/lib/python3.10/site-packages/sklearn/linear_model/_logistic.py:469: ConvergenceWarning: lbfgs failed to converge (status=1):\n",
      "STOP: TOTAL NO. of ITERATIONS REACHED LIMIT.\n",
      "\n",
      "Increase the number of iterations (max_iter) or scale the data as shown in:\n",
      "    https://scikit-learn.org/stable/modules/preprocessing.html\n",
      "Please also refer to the documentation for alternative solver options:\n",
      "    https://scikit-learn.org/stable/modules/linear_model.html#logistic-regression\n",
      "  n_iter_i = _check_optimize_result(\n",
      "/Library/Frameworks/Python.framework/Versions/3.10/lib/python3.10/site-packages/sklearn/linear_model/_logistic.py:469: ConvergenceWarning: lbfgs failed to converge (status=1):\n",
      "STOP: TOTAL NO. of ITERATIONS REACHED LIMIT.\n",
      "\n",
      "Increase the number of iterations (max_iter) or scale the data as shown in:\n",
      "    https://scikit-learn.org/stable/modules/preprocessing.html\n",
      "Please also refer to the documentation for alternative solver options:\n",
      "    https://scikit-learn.org/stable/modules/linear_model.html#logistic-regression\n",
      "  n_iter_i = _check_optimize_result(\n",
      "/Library/Frameworks/Python.framework/Versions/3.10/lib/python3.10/site-packages/sklearn/linear_model/_logistic.py:469: ConvergenceWarning: lbfgs failed to converge (status=1):\n",
      "STOP: TOTAL NO. of ITERATIONS REACHED LIMIT.\n",
      "\n",
      "Increase the number of iterations (max_iter) or scale the data as shown in:\n",
      "    https://scikit-learn.org/stable/modules/preprocessing.html\n",
      "Please also refer to the documentation for alternative solver options:\n",
      "    https://scikit-learn.org/stable/modules/linear_model.html#logistic-regression\n",
      "  n_iter_i = _check_optimize_result(\n",
      "/Library/Frameworks/Python.framework/Versions/3.10/lib/python3.10/site-packages/sklearn/linear_model/_logistic.py:469: ConvergenceWarning: lbfgs failed to converge (status=1):\n",
      "STOP: TOTAL NO. of ITERATIONS REACHED LIMIT.\n",
      "\n",
      "Increase the number of iterations (max_iter) or scale the data as shown in:\n",
      "    https://scikit-learn.org/stable/modules/preprocessing.html\n",
      "Please also refer to the documentation for alternative solver options:\n",
      "    https://scikit-learn.org/stable/modules/linear_model.html#logistic-regression\n",
      "  n_iter_i = _check_optimize_result(\n"
     ]
    },
    {
     "name": "stdout",
     "output_type": "stream",
     "text": [
      "Top 5 predictive features for d_content_average:\n",
      "hasnegative: -0.7662223999938567\n",
      "direct_question: -0.628093288335286\n",
      "factuality: 0.5694172100797291\n",
      "2nd_person: -0.4901181692589242\n",
      "1st_person_start: 0.45655191016250146\n",
      "\n",
      "\n",
      "Top 5 predictive features for d_expression_average:\n",
      "2nd_person: -0.8379396812527075\n",
      "subjunctive: -0.6649044490741922\n",
      "1st_person_start: 0.5935545169822981\n",
      "hasnegative: -0.5646761284081977\n",
      "factuality: 0.49594868929898517\n",
      "\n",
      "\n",
      "Top 5 predictive features for oi_content_average:\n",
      "hasnegative: -0.9430988090596286\n",
      "factuality: 0.5494432955992082\n",
      "haspositive: 0.5105106641893447\n",
      "hedges: 0.4985978870418739\n",
      "2nd_person: -0.47503263695182923\n",
      "\n",
      "\n",
      "Top 5 predictive features for oi_expression_average:\n",
      "hashedge: -0.7115748203444149\n",
      "1st_person: 0.543783366792791\n",
      "1st_person_start: -0.2911873062025171\n",
      "direct_start: 0.26849839493837624\n",
      "1st_person_pl: 0.26821377075842884\n",
      "\n",
      "\n"
     ]
    }
   ],
   "source": [
    "output_tpm = classify_using_tpm_with_logreg(train_tpm,test_tpm)"
   ]
  },
  {
   "cell_type": "code",
   "execution_count": 4,
   "metadata": {},
   "outputs": [],
   "source": [
    "import pandas as pd\n",
    "from sklearn.decomposition import PCA\n",
    "from sklearn.linear_model import LogisticRegression\n",
    "from sklearn.multioutput import MultiOutputClassifier\n",
    "from sklearn.pipeline import Pipeline\n",
    "from sklearn.preprocessing import StandardScaler\n",
    "import plotly.express as px\n",
    "\n",
    "def classify_using_tpm_with_pca(train, test, features):\n",
    "    targets = ['d_content_average', 'd_expression_average', 'oi_content_average', 'oi_expression_average']\n",
    "    \n",
    "    # Fill missing values with 0.0\n",
    "    train.fillna(0.0, inplace=True)\n",
    "    test.fillna(0.0, inplace=True)\n",
    "    \n",
    "    # Binary conversion of the target variables\n",
    "    train[targets] = (train[targets] > 0.5).astype(int)\n",
    "    \n",
    "    # Scale the data\n",
    "    scaler = StandardScaler()\n",
    "    train_scaled = scaler.fit_transform(train[features])\n",
    "    test_scaled = scaler.transform(test[features])\n",
    "    \n",
    "    # Fit PCA\n",
    "    pca = PCA(n_components=5)\n",
    "    pca.fit(train_scaled)\n",
    "    \n",
    "    # Visualize the contributions of the original features to the first two PCA components\n",
    "    components_df = pd.DataFrame(pca.components_.T, columns=[f'PC{i+1}' for i in range(5)], index=features)\n",
    "    fig = px.scatter(components_df, x='PC1', y='PC2', text=components_df.index, \n",
    "                     title=\"Feature Contributions\")\n",
    "    fig.update_traces(textposition='top center')\n",
    "    fig.update_layout(height=800, width=800)\n",
    "    fig.show()\n",
    "    \n",
    "        \n",
    "    # Visualize the contributions of the original features to the first two PCA components\n",
    "    components_df = pd.DataFrame(pca.components_.T, columns=[f'PC{i+1}' for i in range(5)], index=features)\n",
    "    fig = px.scatter(components_df, x='PC3', y='PC4', text=components_df.index, \n",
    "                     title=\"Feature Contributions\")\n",
    "    fig.update_traces(textposition='top center')\n",
    "    fig.update_layout(height=800, width=800)\n",
    "    fig.show()\n",
    "\n",
    "    # Define and fit the full pipeline including classification\n",
    "    full_pipeline = Pipeline([\n",
    "        ('scaler', StandardScaler()),\n",
    "        ('pca', PCA(n_components=5)),\n",
    "        ('classifier', MultiOutputClassifier(LogisticRegression(solver='saga', max_iter=1000)))\n",
    "    ])\n",
    "    full_pipeline.fit(train[features], train[targets])\n",
    "    \n",
    "    # Predict on the test set\n",
    "    y_pred = full_pipeline.predict(test[features])\n",
    "    \n",
    "    # Append the predictions to the test DataFrame\n",
    "    y_pred_df = pd.DataFrame(y_pred, columns=targets, index=test.index)\n",
    "    pred_df = pd.concat([test, y_pred_df], axis=1)\n",
    "\n",
    "    # Optionally, print explained variance ratio by PCA components\n",
    "    print(\"Explained variance ratio by PCA components:\", pca.explained_variance_ratio_)\n",
    "    \n",
    "    return pred_df\n"
   ]
  },
  {
   "cell_type": "code",
   "execution_count": 5,
   "metadata": {},
   "outputs": [
    {
     "data": {
      "application/vnd.plotly.v1+json": {
       "config": {
        "plotlyServerURL": "https://plot.ly"
       },
       "data": [
        {
         "hovertemplate": "PC1=%{x}<br>PC2=%{y}<br>index=%{text}<extra></extra>",
         "legendgroup": "",
         "marker": {
          "color": "#636efa",
          "symbol": "circle"
         },
         "mode": "markers+text",
         "name": "",
         "orientation": "v",
         "showlegend": false,
         "text": [
          "num_words",
          "num_chars",
          "num_messages",
          "info_exchange_zscore_chats",
          "info_exchange_zscore_conversation",
          "discrepancies_lexical_per_100",
          "hear_lexical_per_100",
          "home_lexical_per_100",
          "conjunction_lexical_per_100",
          "certainty_lexical_per_100",
          "inclusive_lexical_per_100",
          "bio_lexical_per_100",
          "achievement_lexical_per_100",
          "adverbs_lexical_per_100",
          "anxiety_lexical_per_100",
          "third_person_lexical_per_100",
          "negation_lexical_per_100",
          "swear_lexical_per_100",
          "death_lexical_per_100",
          "health_lexical_per_100",
          "see_lexical_per_100",
          "body_lexical_per_100",
          "family_lexical_per_100",
          "negative_affect_lexical_per_100",
          "quantifier_lexical_per_100",
          "positive_affect_lexical_per_100",
          "insight_lexical_per_100",
          "humans_lexical_per_100",
          "present_tense_lexical_per_100",
          "future_tense_lexical_per_100",
          "past_tense_lexical_per_100",
          "relative_lexical_per_100",
          "sexual_lexical_per_100",
          "inhibition_lexical_per_100",
          "sadness_lexical_per_100",
          "social_lexical_per_100",
          "indefinite_pronoun_lexical_per_100",
          "religion_lexical_per_100",
          "work_lexical_per_100",
          "money_lexical_per_100",
          "causation_lexical_per_100",
          "anger_lexical_per_100",
          "first_person_singular_lexical_per_100",
          "feel_lexical_per_100",
          "tentativeness_lexical_per_100",
          "exclusive_lexical_per_100",
          "verbs_lexical_per_100",
          "friends_lexical_per_100",
          "article_lexical_per_100",
          "argue_lexical_per_100",
          "auxiliary_verbs_lexical_per_100",
          "cognitive_mech_lexical_per_100",
          "preposition_lexical_per_100",
          "first_person_plural_lexical_per_100",
          "percept_lexical_per_100",
          "second_person_lexical_per_100",
          "positive_words_lexical_per_100",
          "first_person_lexical_per_100",
          "nltk_english_stopwords_lexical_per_100",
          "hedge_words_lexical_per_100",
          "num_question_naive",
          "NTRI",
          "word_TTR",
          "first_pronouns_proportion",
          "function_word_accommodation",
          "content_word_accommodation",
          "mimicry_bert",
          "moving_mimicry",
          "hedge_naive",
          "textblob_subjectivity",
          "textblob_polarity",
          "dale_chall_score",
          "please",
          "please_start",
          "hashedge",
          "indirect_btw",
          "hedges",
          "factuality",
          "deference",
          "gratitude",
          "apologizing",
          "1st_person_pl",
          "1st_person",
          "1st_person_start",
          "2nd_person",
          "2nd_person_start",
          "indirect_greeting",
          "direct_question",
          "direct_start",
          "haspositive",
          "hasnegative",
          "subjunctive",
          "indicative",
          "forward_flow",
          "certainty_rocklage"
         ],
         "textposition": "top center",
         "type": "scatter",
         "x": [
          0.20582773990700853,
          0.20112609955187633,
          0,
          0.20500003943228376,
          0.16744420895218015,
          0.12864768020658124,
          0.07476184850079227,
          0.03841467982048127,
          0.1752029581109989,
          0.09869598603577423,
          0.14360523063431005,
          0.08915369663905448,
          0.10779169044169282,
          0.14419783075695947,
          0.029313529140699488,
          0.05109753585726867,
          0.1343302241183952,
          0.024863087172349363,
          0.03200509931158869,
          0.0591317842764028,
          0.057041492156364094,
          0.060735847064777956,
          0.05308282928903862,
          0.054212366793600635,
          0.12493140312837125,
          0.14419059712962357,
          0.13754881684990836,
          0.08698674530431767,
          0.177283654501808,
          0.09871945034789584,
          0.09284913354544486,
          0.1521842634353803,
          0.058162608646707,
          0.05890317739245901,
          0.05705446588242277,
          0.15907079277203118,
          0.16495471736371087,
          0.04447766159008993,
          0.06591764394711197,
          0.019261165462513854,
          0.09995705032051268,
          0.03996115284835986,
          0.10855003181812924,
          0.08445998217113278,
          0.1439448980114361,
          0.15217616785577573,
          0.19517096198610578,
          0.050069878261819835,
          0.14897427281298242,
          0.16025999291504672,
          0.18655234263275036,
          0.1943582728639856,
          0.17897093940873882,
          0.048023211735944135,
          0.11678527941033803,
          0.09667033674458178,
          0.14696816960544568,
          0.1121529299232542,
          0.20414936482738827,
          0.05602370871431035,
          0.028006386567940335,
          -0.0046626249849779115,
          -0.1698372901190811,
          0.003504997183480565,
          0.1157103001238038,
          0.02775834102203133,
          -0.001916285310145781,
          -0.03664639037323219,
          0.04730759396479972,
          0.055872973321517486,
          0.032862901084601645,
          0.12475347840193911,
          0.004467349961329911,
          -0.0026943378081300874,
          0.08479340440653141,
          0,
          0.07464530348040685,
          0.039944460899767234,
          0,
          -0.0072998316554373065,
          0.006374455074515634,
          0.039928612807601176,
          0.06757547467562697,
          0.01329586177095121,
          0.06618868242525663,
          -0.015295202603025804,
          -0.0011019262077932013,
          -0.005371339520607708,
          0.016635005046629917,
          0.08679082714213651,
          0.06939392788592266,
          0.011865383343371245,
          0.0043540527162371015,
          -0.0023917863778661207,
          0.020064564602186193
         ],
         "xaxis": "x",
         "y": [
          -0.006272167926558771,
          -0.011869329259183546,
          -2.7755575615628914e-17,
          -0.024933354903866778,
          -0.032370532539072405,
          -0.08330088253600398,
          0.02077172828530205,
          -0.016392858024281032,
          -0.011288077379461844,
          -0.028846985916493498,
          0.06417956198256111,
          -0.02459375022672072,
          -0.010470619607872447,
          0.024570794286929157,
          -0.0678454800483622,
          -0.031149109425758596,
          0.058237058897739516,
          0.0072801561177397575,
          0.02340434080202294,
          -0.055787120691949174,
          0.010775397244765617,
          0.039387635722514566,
          -0.08024681972323897,
          -0.02671599483201718,
          0.005622405778107438,
          0.02562163840356445,
          0.04781611083909165,
          -0.07947106217813234,
          0.005764566328162878,
          -0.06474247725175122,
          0.050481510667455806,
          0.040460357074853806,
          -0.037229804167551304,
          -0.03928910939025831,
          -0.018972907844313148,
          -0.07246646014977527,
          0.00766533812824695,
          -0.039268530086376735,
          -0.07334387027668181,
          -0.07682907102165676,
          -0.057973026797331094,
          -0.023696247855923575,
          0.26310720426226736,
          0.09168625520013816,
          -0.03814233635482236,
          0.000848039959154229,
          0.011068115109012547,
          -0.008373225850620218,
          -0.06375189019646996,
          0.020719975216837095,
          -0.00599932321840098,
          -0.008571244618891614,
          -0.007312494701889791,
          0.14370882947282732,
          0.06350403705561261,
          -0.10049545373739915,
          -0.001507055520975496,
          0.2904781064738712,
          0.0041147998001715,
          0.005960044411580861,
          -0.14023506071154251,
          0.004798438119129092,
          0.048765123129941496,
          0.2996318771289227,
          -0.250100588765399,
          -0.2292913863949004,
          -0.34569941827414086,
          -0.3194102261347519,
          -0.005907560506949915,
          -0.04568041576666237,
          0.04169133537626141,
          0.0015184103118574437,
          0.0831181213236798,
          -0.020996534975768654,
          0.017062688503545413,
          0,
          0.10907222839052241,
          -0.05868187716373896,
          0,
          0.05662033069110933,
          0.007237080811583878,
          0.14965927853569724,
          0.1943752510301753,
          0.1920719970975074,
          -0.06720979803441346,
          0.011742424150112648,
          0.01997479979711857,
          -0.016623688390977207,
          0.029129070511918233,
          -0.012489707424353251,
          -0.11174351683993919,
          -0.07755630944381334,
          -0.05539483972408791,
          -0.33513707254224817,
          0.022792817699170475
         ],
         "yaxis": "y"
        }
       ],
       "layout": {
        "height": 800,
        "legend": {
         "tracegroupgap": 0
        },
        "template": {
         "data": {
          "bar": [
           {
            "error_x": {
             "color": "#2a3f5f"
            },
            "error_y": {
             "color": "#2a3f5f"
            },
            "marker": {
             "line": {
              "color": "#E5ECF6",
              "width": 0.5
             },
             "pattern": {
              "fillmode": "overlay",
              "size": 10,
              "solidity": 0.2
             }
            },
            "type": "bar"
           }
          ],
          "barpolar": [
           {
            "marker": {
             "line": {
              "color": "#E5ECF6",
              "width": 0.5
             },
             "pattern": {
              "fillmode": "overlay",
              "size": 10,
              "solidity": 0.2
             }
            },
            "type": "barpolar"
           }
          ],
          "carpet": [
           {
            "aaxis": {
             "endlinecolor": "#2a3f5f",
             "gridcolor": "white",
             "linecolor": "white",
             "minorgridcolor": "white",
             "startlinecolor": "#2a3f5f"
            },
            "baxis": {
             "endlinecolor": "#2a3f5f",
             "gridcolor": "white",
             "linecolor": "white",
             "minorgridcolor": "white",
             "startlinecolor": "#2a3f5f"
            },
            "type": "carpet"
           }
          ],
          "choropleth": [
           {
            "colorbar": {
             "outlinewidth": 0,
             "ticks": ""
            },
            "type": "choropleth"
           }
          ],
          "contour": [
           {
            "colorbar": {
             "outlinewidth": 0,
             "ticks": ""
            },
            "colorscale": [
             [
              0,
              "#0d0887"
             ],
             [
              0.1111111111111111,
              "#46039f"
             ],
             [
              0.2222222222222222,
              "#7201a8"
             ],
             [
              0.3333333333333333,
              "#9c179e"
             ],
             [
              0.4444444444444444,
              "#bd3786"
             ],
             [
              0.5555555555555556,
              "#d8576b"
             ],
             [
              0.6666666666666666,
              "#ed7953"
             ],
             [
              0.7777777777777778,
              "#fb9f3a"
             ],
             [
              0.8888888888888888,
              "#fdca26"
             ],
             [
              1,
              "#f0f921"
             ]
            ],
            "type": "contour"
           }
          ],
          "contourcarpet": [
           {
            "colorbar": {
             "outlinewidth": 0,
             "ticks": ""
            },
            "type": "contourcarpet"
           }
          ],
          "heatmap": [
           {
            "colorbar": {
             "outlinewidth": 0,
             "ticks": ""
            },
            "colorscale": [
             [
              0,
              "#0d0887"
             ],
             [
              0.1111111111111111,
              "#46039f"
             ],
             [
              0.2222222222222222,
              "#7201a8"
             ],
             [
              0.3333333333333333,
              "#9c179e"
             ],
             [
              0.4444444444444444,
              "#bd3786"
             ],
             [
              0.5555555555555556,
              "#d8576b"
             ],
             [
              0.6666666666666666,
              "#ed7953"
             ],
             [
              0.7777777777777778,
              "#fb9f3a"
             ],
             [
              0.8888888888888888,
              "#fdca26"
             ],
             [
              1,
              "#f0f921"
             ]
            ],
            "type": "heatmap"
           }
          ],
          "heatmapgl": [
           {
            "colorbar": {
             "outlinewidth": 0,
             "ticks": ""
            },
            "colorscale": [
             [
              0,
              "#0d0887"
             ],
             [
              0.1111111111111111,
              "#46039f"
             ],
             [
              0.2222222222222222,
              "#7201a8"
             ],
             [
              0.3333333333333333,
              "#9c179e"
             ],
             [
              0.4444444444444444,
              "#bd3786"
             ],
             [
              0.5555555555555556,
              "#d8576b"
             ],
             [
              0.6666666666666666,
              "#ed7953"
             ],
             [
              0.7777777777777778,
              "#fb9f3a"
             ],
             [
              0.8888888888888888,
              "#fdca26"
             ],
             [
              1,
              "#f0f921"
             ]
            ],
            "type": "heatmapgl"
           }
          ],
          "histogram": [
           {
            "marker": {
             "pattern": {
              "fillmode": "overlay",
              "size": 10,
              "solidity": 0.2
             }
            },
            "type": "histogram"
           }
          ],
          "histogram2d": [
           {
            "colorbar": {
             "outlinewidth": 0,
             "ticks": ""
            },
            "colorscale": [
             [
              0,
              "#0d0887"
             ],
             [
              0.1111111111111111,
              "#46039f"
             ],
             [
              0.2222222222222222,
              "#7201a8"
             ],
             [
              0.3333333333333333,
              "#9c179e"
             ],
             [
              0.4444444444444444,
              "#bd3786"
             ],
             [
              0.5555555555555556,
              "#d8576b"
             ],
             [
              0.6666666666666666,
              "#ed7953"
             ],
             [
              0.7777777777777778,
              "#fb9f3a"
             ],
             [
              0.8888888888888888,
              "#fdca26"
             ],
             [
              1,
              "#f0f921"
             ]
            ],
            "type": "histogram2d"
           }
          ],
          "histogram2dcontour": [
           {
            "colorbar": {
             "outlinewidth": 0,
             "ticks": ""
            },
            "colorscale": [
             [
              0,
              "#0d0887"
             ],
             [
              0.1111111111111111,
              "#46039f"
             ],
             [
              0.2222222222222222,
              "#7201a8"
             ],
             [
              0.3333333333333333,
              "#9c179e"
             ],
             [
              0.4444444444444444,
              "#bd3786"
             ],
             [
              0.5555555555555556,
              "#d8576b"
             ],
             [
              0.6666666666666666,
              "#ed7953"
             ],
             [
              0.7777777777777778,
              "#fb9f3a"
             ],
             [
              0.8888888888888888,
              "#fdca26"
             ],
             [
              1,
              "#f0f921"
             ]
            ],
            "type": "histogram2dcontour"
           }
          ],
          "mesh3d": [
           {
            "colorbar": {
             "outlinewidth": 0,
             "ticks": ""
            },
            "type": "mesh3d"
           }
          ],
          "parcoords": [
           {
            "line": {
             "colorbar": {
              "outlinewidth": 0,
              "ticks": ""
             }
            },
            "type": "parcoords"
           }
          ],
          "pie": [
           {
            "automargin": true,
            "type": "pie"
           }
          ],
          "scatter": [
           {
            "fillpattern": {
             "fillmode": "overlay",
             "size": 10,
             "solidity": 0.2
            },
            "type": "scatter"
           }
          ],
          "scatter3d": [
           {
            "line": {
             "colorbar": {
              "outlinewidth": 0,
              "ticks": ""
             }
            },
            "marker": {
             "colorbar": {
              "outlinewidth": 0,
              "ticks": ""
             }
            },
            "type": "scatter3d"
           }
          ],
          "scattercarpet": [
           {
            "marker": {
             "colorbar": {
              "outlinewidth": 0,
              "ticks": ""
             }
            },
            "type": "scattercarpet"
           }
          ],
          "scattergeo": [
           {
            "marker": {
             "colorbar": {
              "outlinewidth": 0,
              "ticks": ""
             }
            },
            "type": "scattergeo"
           }
          ],
          "scattergl": [
           {
            "marker": {
             "colorbar": {
              "outlinewidth": 0,
              "ticks": ""
             }
            },
            "type": "scattergl"
           }
          ],
          "scattermapbox": [
           {
            "marker": {
             "colorbar": {
              "outlinewidth": 0,
              "ticks": ""
             }
            },
            "type": "scattermapbox"
           }
          ],
          "scatterpolar": [
           {
            "marker": {
             "colorbar": {
              "outlinewidth": 0,
              "ticks": ""
             }
            },
            "type": "scatterpolar"
           }
          ],
          "scatterpolargl": [
           {
            "marker": {
             "colorbar": {
              "outlinewidth": 0,
              "ticks": ""
             }
            },
            "type": "scatterpolargl"
           }
          ],
          "scatterternary": [
           {
            "marker": {
             "colorbar": {
              "outlinewidth": 0,
              "ticks": ""
             }
            },
            "type": "scatterternary"
           }
          ],
          "surface": [
           {
            "colorbar": {
             "outlinewidth": 0,
             "ticks": ""
            },
            "colorscale": [
             [
              0,
              "#0d0887"
             ],
             [
              0.1111111111111111,
              "#46039f"
             ],
             [
              0.2222222222222222,
              "#7201a8"
             ],
             [
              0.3333333333333333,
              "#9c179e"
             ],
             [
              0.4444444444444444,
              "#bd3786"
             ],
             [
              0.5555555555555556,
              "#d8576b"
             ],
             [
              0.6666666666666666,
              "#ed7953"
             ],
             [
              0.7777777777777778,
              "#fb9f3a"
             ],
             [
              0.8888888888888888,
              "#fdca26"
             ],
             [
              1,
              "#f0f921"
             ]
            ],
            "type": "surface"
           }
          ],
          "table": [
           {
            "cells": {
             "fill": {
              "color": "#EBF0F8"
             },
             "line": {
              "color": "white"
             }
            },
            "header": {
             "fill": {
              "color": "#C8D4E3"
             },
             "line": {
              "color": "white"
             }
            },
            "type": "table"
           }
          ]
         },
         "layout": {
          "annotationdefaults": {
           "arrowcolor": "#2a3f5f",
           "arrowhead": 0,
           "arrowwidth": 1
          },
          "autotypenumbers": "strict",
          "coloraxis": {
           "colorbar": {
            "outlinewidth": 0,
            "ticks": ""
           }
          },
          "colorscale": {
           "diverging": [
            [
             0,
             "#8e0152"
            ],
            [
             0.1,
             "#c51b7d"
            ],
            [
             0.2,
             "#de77ae"
            ],
            [
             0.3,
             "#f1b6da"
            ],
            [
             0.4,
             "#fde0ef"
            ],
            [
             0.5,
             "#f7f7f7"
            ],
            [
             0.6,
             "#e6f5d0"
            ],
            [
             0.7,
             "#b8e186"
            ],
            [
             0.8,
             "#7fbc41"
            ],
            [
             0.9,
             "#4d9221"
            ],
            [
             1,
             "#276419"
            ]
           ],
           "sequential": [
            [
             0,
             "#0d0887"
            ],
            [
             0.1111111111111111,
             "#46039f"
            ],
            [
             0.2222222222222222,
             "#7201a8"
            ],
            [
             0.3333333333333333,
             "#9c179e"
            ],
            [
             0.4444444444444444,
             "#bd3786"
            ],
            [
             0.5555555555555556,
             "#d8576b"
            ],
            [
             0.6666666666666666,
             "#ed7953"
            ],
            [
             0.7777777777777778,
             "#fb9f3a"
            ],
            [
             0.8888888888888888,
             "#fdca26"
            ],
            [
             1,
             "#f0f921"
            ]
           ],
           "sequentialminus": [
            [
             0,
             "#0d0887"
            ],
            [
             0.1111111111111111,
             "#46039f"
            ],
            [
             0.2222222222222222,
             "#7201a8"
            ],
            [
             0.3333333333333333,
             "#9c179e"
            ],
            [
             0.4444444444444444,
             "#bd3786"
            ],
            [
             0.5555555555555556,
             "#d8576b"
            ],
            [
             0.6666666666666666,
             "#ed7953"
            ],
            [
             0.7777777777777778,
             "#fb9f3a"
            ],
            [
             0.8888888888888888,
             "#fdca26"
            ],
            [
             1,
             "#f0f921"
            ]
           ]
          },
          "colorway": [
           "#636efa",
           "#EF553B",
           "#00cc96",
           "#ab63fa",
           "#FFA15A",
           "#19d3f3",
           "#FF6692",
           "#B6E880",
           "#FF97FF",
           "#FECB52"
          ],
          "font": {
           "color": "#2a3f5f"
          },
          "geo": {
           "bgcolor": "white",
           "lakecolor": "white",
           "landcolor": "#E5ECF6",
           "showlakes": true,
           "showland": true,
           "subunitcolor": "white"
          },
          "hoverlabel": {
           "align": "left"
          },
          "hovermode": "closest",
          "mapbox": {
           "style": "light"
          },
          "paper_bgcolor": "white",
          "plot_bgcolor": "#E5ECF6",
          "polar": {
           "angularaxis": {
            "gridcolor": "white",
            "linecolor": "white",
            "ticks": ""
           },
           "bgcolor": "#E5ECF6",
           "radialaxis": {
            "gridcolor": "white",
            "linecolor": "white",
            "ticks": ""
           }
          },
          "scene": {
           "xaxis": {
            "backgroundcolor": "#E5ECF6",
            "gridcolor": "white",
            "gridwidth": 2,
            "linecolor": "white",
            "showbackground": true,
            "ticks": "",
            "zerolinecolor": "white"
           },
           "yaxis": {
            "backgroundcolor": "#E5ECF6",
            "gridcolor": "white",
            "gridwidth": 2,
            "linecolor": "white",
            "showbackground": true,
            "ticks": "",
            "zerolinecolor": "white"
           },
           "zaxis": {
            "backgroundcolor": "#E5ECF6",
            "gridcolor": "white",
            "gridwidth": 2,
            "linecolor": "white",
            "showbackground": true,
            "ticks": "",
            "zerolinecolor": "white"
           }
          },
          "shapedefaults": {
           "line": {
            "color": "#2a3f5f"
           }
          },
          "ternary": {
           "aaxis": {
            "gridcolor": "white",
            "linecolor": "white",
            "ticks": ""
           },
           "baxis": {
            "gridcolor": "white",
            "linecolor": "white",
            "ticks": ""
           },
           "bgcolor": "#E5ECF6",
           "caxis": {
            "gridcolor": "white",
            "linecolor": "white",
            "ticks": ""
           }
          },
          "title": {
           "x": 0.05
          },
          "xaxis": {
           "automargin": true,
           "gridcolor": "white",
           "linecolor": "white",
           "ticks": "",
           "title": {
            "standoff": 15
           },
           "zerolinecolor": "white",
           "zerolinewidth": 2
          },
          "yaxis": {
           "automargin": true,
           "gridcolor": "white",
           "linecolor": "white",
           "ticks": "",
           "title": {
            "standoff": 15
           },
           "zerolinecolor": "white",
           "zerolinewidth": 2
          }
         }
        },
        "title": {
         "text": "Feature Contributions"
        },
        "width": 800,
        "xaxis": {
         "anchor": "y",
         "domain": [
          0,
          1
         ],
         "title": {
          "text": "PC1"
         }
        },
        "yaxis": {
         "anchor": "x",
         "domain": [
          0,
          1
         ],
         "title": {
          "text": "PC2"
         }
        }
       }
      }
     },
     "metadata": {},
     "output_type": "display_data"
    },
    {
     "data": {
      "application/vnd.plotly.v1+json": {
       "config": {
        "plotlyServerURL": "https://plot.ly"
       },
       "data": [
        {
         "hovertemplate": "PC3=%{x}<br>PC4=%{y}<br>index=%{text}<extra></extra>",
         "legendgroup": "",
         "marker": {
          "color": "#636efa",
          "symbol": "circle"
         },
         "mode": "markers+text",
         "name": "",
         "orientation": "v",
         "showlegend": false,
         "text": [
          "num_words",
          "num_chars",
          "num_messages",
          "info_exchange_zscore_chats",
          "info_exchange_zscore_conversation",
          "discrepancies_lexical_per_100",
          "hear_lexical_per_100",
          "home_lexical_per_100",
          "conjunction_lexical_per_100",
          "certainty_lexical_per_100",
          "inclusive_lexical_per_100",
          "bio_lexical_per_100",
          "achievement_lexical_per_100",
          "adverbs_lexical_per_100",
          "anxiety_lexical_per_100",
          "third_person_lexical_per_100",
          "negation_lexical_per_100",
          "swear_lexical_per_100",
          "death_lexical_per_100",
          "health_lexical_per_100",
          "see_lexical_per_100",
          "body_lexical_per_100",
          "family_lexical_per_100",
          "negative_affect_lexical_per_100",
          "quantifier_lexical_per_100",
          "positive_affect_lexical_per_100",
          "insight_lexical_per_100",
          "humans_lexical_per_100",
          "present_tense_lexical_per_100",
          "future_tense_lexical_per_100",
          "past_tense_lexical_per_100",
          "relative_lexical_per_100",
          "sexual_lexical_per_100",
          "inhibition_lexical_per_100",
          "sadness_lexical_per_100",
          "social_lexical_per_100",
          "indefinite_pronoun_lexical_per_100",
          "religion_lexical_per_100",
          "work_lexical_per_100",
          "money_lexical_per_100",
          "causation_lexical_per_100",
          "anger_lexical_per_100",
          "first_person_singular_lexical_per_100",
          "feel_lexical_per_100",
          "tentativeness_lexical_per_100",
          "exclusive_lexical_per_100",
          "verbs_lexical_per_100",
          "friends_lexical_per_100",
          "article_lexical_per_100",
          "argue_lexical_per_100",
          "auxiliary_verbs_lexical_per_100",
          "cognitive_mech_lexical_per_100",
          "preposition_lexical_per_100",
          "first_person_plural_lexical_per_100",
          "percept_lexical_per_100",
          "second_person_lexical_per_100",
          "positive_words_lexical_per_100",
          "first_person_lexical_per_100",
          "nltk_english_stopwords_lexical_per_100",
          "hedge_words_lexical_per_100",
          "num_question_naive",
          "NTRI",
          "word_TTR",
          "first_pronouns_proportion",
          "function_word_accommodation",
          "content_word_accommodation",
          "mimicry_bert",
          "moving_mimicry",
          "hedge_naive",
          "textblob_subjectivity",
          "textblob_polarity",
          "dale_chall_score",
          "please",
          "please_start",
          "hashedge",
          "indirect_btw",
          "hedges",
          "factuality",
          "deference",
          "gratitude",
          "apologizing",
          "1st_person_pl",
          "1st_person",
          "1st_person_start",
          "2nd_person",
          "2nd_person_start",
          "indirect_greeting",
          "direct_question",
          "direct_start",
          "haspositive",
          "hasnegative",
          "subjunctive",
          "indicative",
          "forward_flow",
          "certainty_rocklage"
         ],
         "textposition": "top center",
         "type": "scatter",
         "x": [
          0.04491349187832622,
          0.07222697082037507,
          1.1102230246251565e-16,
          0.05910203784812873,
          0.12501468144958683,
          -0.06898603603007317,
          0.03602755202264468,
          -0.03186393645617691,
          0.04447393969523511,
          0.05015807341366907,
          0.010636229383350862,
          -0.0790883459278515,
          0.09736972125817214,
          0.014293188505791962,
          -0.029827199527545943,
          0.13214162351038736,
          -0.08533106487072814,
          0.06716642027139008,
          0.09060680566701436,
          0.025874589105209084,
          0.02730247883851663,
          -0.106716628536387,
          -0.07719995147510013,
          0.1265431763392624,
          0.037747111469943945,
          -0.07485483182723524,
          -0.11374574772955794,
          0.010076020652208773,
          -0.0820367081176989,
          -0.006876393295195175,
          0.08889469839044663,
          0.08494284364967308,
          -0.09416630219880973,
          0.15108102802576667,
          0.0719772951417069,
          -0.07766483385213738,
          0.014512458499861713,
          0.12452855931042749,
          0.19340888120317853,
          0.13843766079559522,
          -0.06784938147476754,
          0.1912364801964441,
          -0.17460967118484472,
          -0.11409241057173256,
          0.03243573335945624,
          -0.03014542821204144,
          -0.03892872568277367,
          0.13783846193725494,
          0.15288898556813188,
          0.024811662523630946,
          -0.00022233390747217104,
          -0.03876738058837096,
          0.06135381081742333,
          -0.10890908256655685,
          -0.017232269672929762,
          -0.18428568164691292,
          -0.003989346642905975,
          -0.2070150734062644,
          0.023558254171823684,
          0.10472017921978109,
          -0.05567211831077649,
          0.0059064613829362496,
          -0.0030142209583074583,
          -0.28540230931006055,
          -0.15494856783916458,
          -0.10641118661343645,
          -0.24398420169541923,
          -0.26686092858883315,
          0.08399711197959836,
          0.0016993888157487015,
          -0.13870521679821576,
          0.136776871100294,
          -0.05121308040626456,
          0.007790378293910486,
          -0.0461879990087007,
          0,
          -0.10557932981418029,
          -0.05584950780551949,
          0,
          -0.07230434449836241,
          -0.018741491167001214,
          -0.1206603325982495,
          -0.15083363743444458,
          -0.07212672710894187,
          -0.1532468103650008,
          -0.005863303850496028,
          -0.03310149566036965,
          -0.031042721631893245,
          -0.026488842039581573,
          -0.05701858326151853,
          0.10497696078692124,
          -0.10759460211004004,
          -0.08217110392496668,
          -0.23872362140636066,
          0.009466247498426042
         ],
         "xaxis": "x",
         "y": [
          -0.018942087111369653,
          -0.011883998569012748,
          5.551115123125783e-17,
          -0.013800166150976234,
          -0.0467044271164126,
          0.07089820323085211,
          0.08127855346829826,
          -0.023007955145271902,
          -0.03796307008226779,
          0.03543804112615567,
          -0.10910698842705979,
          -0.22085071416822055,
          0.20363275983371773,
          -0.013828247880299634,
          -0.12890331259338844,
          -0.0622346683147025,
          -0.0654380967899172,
          -0.21771925419231666,
          -0.11393111046887386,
          -0.10232970440518144,
          -0.07703887527147038,
          -0.24099915144817466,
          0.19574747078023885,
          -0.21728110147430205,
          0.06568963742696166,
          0.11708712279770947,
          0.07033416501250592,
          -0.016360925476296626,
          0.03620292012623785,
          0.09599958777742935,
          -0.12275757650527666,
          -0.07029100908980693,
          -0.14366638459788128,
          -0.03431863425221056,
          0.016676814891786212,
          0.056005549005434786,
          0.04740687864978505,
          -0.1053230733242075,
          0.14441017349591154,
          0.08821305463783342,
          0.022769576900757826,
          -0.2376535712978055,
          -0.0469628772051022,
          -0.06821035741051504,
          0.11289095578512633,
          0.04618833727450402,
          0.017441639074842325,
          -0.009283947262578217,
          -0.040415765411937504,
          -0.07407930556366309,
          0.007639943713924488,
          0.032296895106936147,
          -0.02633287878115941,
          -0.1416521235280498,
          -0.04842951263265054,
          0.12887098267191252,
          0.047210190499772695,
          -0.08802073538915313,
          -0.014020584200915382,
          0.16719746870903046,
          0.21125267842458034,
          0.03075499124071036,
          -0.0032270605101377466,
          -0.05956686232388611,
          -0.09524819024187246,
          -0.05858408946186823,
          -0.14123545916433777,
          -0.10726907157026604,
          0.1649819385824926,
          0.00015875046782232237,
          0.21622210366005842,
          0.023149076192382437,
          0.044137688662293416,
          -0.04634002261990442,
          0.1160494403534669,
          0,
          0.12693039629079816,
          0.10522665935646376,
          0,
          0.0074571397212908844,
          -0.0035688246334452407,
          -0.10385068916300942,
          -0.030176475893776356,
          -0.005946458655113554,
          0.08395251144850986,
          -0.03215784477302938,
          0.058787297391448355,
          0.008448555738967547,
          0.005081179916670386,
          0.05872487207658878,
          -0.16826226337305794,
          0.13361593160840737,
          0.20028022759366712,
          -0.14941989305663753,
          -0.02758496142821058
         ],
         "yaxis": "y"
        }
       ],
       "layout": {
        "height": 800,
        "legend": {
         "tracegroupgap": 0
        },
        "template": {
         "data": {
          "bar": [
           {
            "error_x": {
             "color": "#2a3f5f"
            },
            "error_y": {
             "color": "#2a3f5f"
            },
            "marker": {
             "line": {
              "color": "#E5ECF6",
              "width": 0.5
             },
             "pattern": {
              "fillmode": "overlay",
              "size": 10,
              "solidity": 0.2
             }
            },
            "type": "bar"
           }
          ],
          "barpolar": [
           {
            "marker": {
             "line": {
              "color": "#E5ECF6",
              "width": 0.5
             },
             "pattern": {
              "fillmode": "overlay",
              "size": 10,
              "solidity": 0.2
             }
            },
            "type": "barpolar"
           }
          ],
          "carpet": [
           {
            "aaxis": {
             "endlinecolor": "#2a3f5f",
             "gridcolor": "white",
             "linecolor": "white",
             "minorgridcolor": "white",
             "startlinecolor": "#2a3f5f"
            },
            "baxis": {
             "endlinecolor": "#2a3f5f",
             "gridcolor": "white",
             "linecolor": "white",
             "minorgridcolor": "white",
             "startlinecolor": "#2a3f5f"
            },
            "type": "carpet"
           }
          ],
          "choropleth": [
           {
            "colorbar": {
             "outlinewidth": 0,
             "ticks": ""
            },
            "type": "choropleth"
           }
          ],
          "contour": [
           {
            "colorbar": {
             "outlinewidth": 0,
             "ticks": ""
            },
            "colorscale": [
             [
              0,
              "#0d0887"
             ],
             [
              0.1111111111111111,
              "#46039f"
             ],
             [
              0.2222222222222222,
              "#7201a8"
             ],
             [
              0.3333333333333333,
              "#9c179e"
             ],
             [
              0.4444444444444444,
              "#bd3786"
             ],
             [
              0.5555555555555556,
              "#d8576b"
             ],
             [
              0.6666666666666666,
              "#ed7953"
             ],
             [
              0.7777777777777778,
              "#fb9f3a"
             ],
             [
              0.8888888888888888,
              "#fdca26"
             ],
             [
              1,
              "#f0f921"
             ]
            ],
            "type": "contour"
           }
          ],
          "contourcarpet": [
           {
            "colorbar": {
             "outlinewidth": 0,
             "ticks": ""
            },
            "type": "contourcarpet"
           }
          ],
          "heatmap": [
           {
            "colorbar": {
             "outlinewidth": 0,
             "ticks": ""
            },
            "colorscale": [
             [
              0,
              "#0d0887"
             ],
             [
              0.1111111111111111,
              "#46039f"
             ],
             [
              0.2222222222222222,
              "#7201a8"
             ],
             [
              0.3333333333333333,
              "#9c179e"
             ],
             [
              0.4444444444444444,
              "#bd3786"
             ],
             [
              0.5555555555555556,
              "#d8576b"
             ],
             [
              0.6666666666666666,
              "#ed7953"
             ],
             [
              0.7777777777777778,
              "#fb9f3a"
             ],
             [
              0.8888888888888888,
              "#fdca26"
             ],
             [
              1,
              "#f0f921"
             ]
            ],
            "type": "heatmap"
           }
          ],
          "heatmapgl": [
           {
            "colorbar": {
             "outlinewidth": 0,
             "ticks": ""
            },
            "colorscale": [
             [
              0,
              "#0d0887"
             ],
             [
              0.1111111111111111,
              "#46039f"
             ],
             [
              0.2222222222222222,
              "#7201a8"
             ],
             [
              0.3333333333333333,
              "#9c179e"
             ],
             [
              0.4444444444444444,
              "#bd3786"
             ],
             [
              0.5555555555555556,
              "#d8576b"
             ],
             [
              0.6666666666666666,
              "#ed7953"
             ],
             [
              0.7777777777777778,
              "#fb9f3a"
             ],
             [
              0.8888888888888888,
              "#fdca26"
             ],
             [
              1,
              "#f0f921"
             ]
            ],
            "type": "heatmapgl"
           }
          ],
          "histogram": [
           {
            "marker": {
             "pattern": {
              "fillmode": "overlay",
              "size": 10,
              "solidity": 0.2
             }
            },
            "type": "histogram"
           }
          ],
          "histogram2d": [
           {
            "colorbar": {
             "outlinewidth": 0,
             "ticks": ""
            },
            "colorscale": [
             [
              0,
              "#0d0887"
             ],
             [
              0.1111111111111111,
              "#46039f"
             ],
             [
              0.2222222222222222,
              "#7201a8"
             ],
             [
              0.3333333333333333,
              "#9c179e"
             ],
             [
              0.4444444444444444,
              "#bd3786"
             ],
             [
              0.5555555555555556,
              "#d8576b"
             ],
             [
              0.6666666666666666,
              "#ed7953"
             ],
             [
              0.7777777777777778,
              "#fb9f3a"
             ],
             [
              0.8888888888888888,
              "#fdca26"
             ],
             [
              1,
              "#f0f921"
             ]
            ],
            "type": "histogram2d"
           }
          ],
          "histogram2dcontour": [
           {
            "colorbar": {
             "outlinewidth": 0,
             "ticks": ""
            },
            "colorscale": [
             [
              0,
              "#0d0887"
             ],
             [
              0.1111111111111111,
              "#46039f"
             ],
             [
              0.2222222222222222,
              "#7201a8"
             ],
             [
              0.3333333333333333,
              "#9c179e"
             ],
             [
              0.4444444444444444,
              "#bd3786"
             ],
             [
              0.5555555555555556,
              "#d8576b"
             ],
             [
              0.6666666666666666,
              "#ed7953"
             ],
             [
              0.7777777777777778,
              "#fb9f3a"
             ],
             [
              0.8888888888888888,
              "#fdca26"
             ],
             [
              1,
              "#f0f921"
             ]
            ],
            "type": "histogram2dcontour"
           }
          ],
          "mesh3d": [
           {
            "colorbar": {
             "outlinewidth": 0,
             "ticks": ""
            },
            "type": "mesh3d"
           }
          ],
          "parcoords": [
           {
            "line": {
             "colorbar": {
              "outlinewidth": 0,
              "ticks": ""
             }
            },
            "type": "parcoords"
           }
          ],
          "pie": [
           {
            "automargin": true,
            "type": "pie"
           }
          ],
          "scatter": [
           {
            "fillpattern": {
             "fillmode": "overlay",
             "size": 10,
             "solidity": 0.2
            },
            "type": "scatter"
           }
          ],
          "scatter3d": [
           {
            "line": {
             "colorbar": {
              "outlinewidth": 0,
              "ticks": ""
             }
            },
            "marker": {
             "colorbar": {
              "outlinewidth": 0,
              "ticks": ""
             }
            },
            "type": "scatter3d"
           }
          ],
          "scattercarpet": [
           {
            "marker": {
             "colorbar": {
              "outlinewidth": 0,
              "ticks": ""
             }
            },
            "type": "scattercarpet"
           }
          ],
          "scattergeo": [
           {
            "marker": {
             "colorbar": {
              "outlinewidth": 0,
              "ticks": ""
             }
            },
            "type": "scattergeo"
           }
          ],
          "scattergl": [
           {
            "marker": {
             "colorbar": {
              "outlinewidth": 0,
              "ticks": ""
             }
            },
            "type": "scattergl"
           }
          ],
          "scattermapbox": [
           {
            "marker": {
             "colorbar": {
              "outlinewidth": 0,
              "ticks": ""
             }
            },
            "type": "scattermapbox"
           }
          ],
          "scatterpolar": [
           {
            "marker": {
             "colorbar": {
              "outlinewidth": 0,
              "ticks": ""
             }
            },
            "type": "scatterpolar"
           }
          ],
          "scatterpolargl": [
           {
            "marker": {
             "colorbar": {
              "outlinewidth": 0,
              "ticks": ""
             }
            },
            "type": "scatterpolargl"
           }
          ],
          "scatterternary": [
           {
            "marker": {
             "colorbar": {
              "outlinewidth": 0,
              "ticks": ""
             }
            },
            "type": "scatterternary"
           }
          ],
          "surface": [
           {
            "colorbar": {
             "outlinewidth": 0,
             "ticks": ""
            },
            "colorscale": [
             [
              0,
              "#0d0887"
             ],
             [
              0.1111111111111111,
              "#46039f"
             ],
             [
              0.2222222222222222,
              "#7201a8"
             ],
             [
              0.3333333333333333,
              "#9c179e"
             ],
             [
              0.4444444444444444,
              "#bd3786"
             ],
             [
              0.5555555555555556,
              "#d8576b"
             ],
             [
              0.6666666666666666,
              "#ed7953"
             ],
             [
              0.7777777777777778,
              "#fb9f3a"
             ],
             [
              0.8888888888888888,
              "#fdca26"
             ],
             [
              1,
              "#f0f921"
             ]
            ],
            "type": "surface"
           }
          ],
          "table": [
           {
            "cells": {
             "fill": {
              "color": "#EBF0F8"
             },
             "line": {
              "color": "white"
             }
            },
            "header": {
             "fill": {
              "color": "#C8D4E3"
             },
             "line": {
              "color": "white"
             }
            },
            "type": "table"
           }
          ]
         },
         "layout": {
          "annotationdefaults": {
           "arrowcolor": "#2a3f5f",
           "arrowhead": 0,
           "arrowwidth": 1
          },
          "autotypenumbers": "strict",
          "coloraxis": {
           "colorbar": {
            "outlinewidth": 0,
            "ticks": ""
           }
          },
          "colorscale": {
           "diverging": [
            [
             0,
             "#8e0152"
            ],
            [
             0.1,
             "#c51b7d"
            ],
            [
             0.2,
             "#de77ae"
            ],
            [
             0.3,
             "#f1b6da"
            ],
            [
             0.4,
             "#fde0ef"
            ],
            [
             0.5,
             "#f7f7f7"
            ],
            [
             0.6,
             "#e6f5d0"
            ],
            [
             0.7,
             "#b8e186"
            ],
            [
             0.8,
             "#7fbc41"
            ],
            [
             0.9,
             "#4d9221"
            ],
            [
             1,
             "#276419"
            ]
           ],
           "sequential": [
            [
             0,
             "#0d0887"
            ],
            [
             0.1111111111111111,
             "#46039f"
            ],
            [
             0.2222222222222222,
             "#7201a8"
            ],
            [
             0.3333333333333333,
             "#9c179e"
            ],
            [
             0.4444444444444444,
             "#bd3786"
            ],
            [
             0.5555555555555556,
             "#d8576b"
            ],
            [
             0.6666666666666666,
             "#ed7953"
            ],
            [
             0.7777777777777778,
             "#fb9f3a"
            ],
            [
             0.8888888888888888,
             "#fdca26"
            ],
            [
             1,
             "#f0f921"
            ]
           ],
           "sequentialminus": [
            [
             0,
             "#0d0887"
            ],
            [
             0.1111111111111111,
             "#46039f"
            ],
            [
             0.2222222222222222,
             "#7201a8"
            ],
            [
             0.3333333333333333,
             "#9c179e"
            ],
            [
             0.4444444444444444,
             "#bd3786"
            ],
            [
             0.5555555555555556,
             "#d8576b"
            ],
            [
             0.6666666666666666,
             "#ed7953"
            ],
            [
             0.7777777777777778,
             "#fb9f3a"
            ],
            [
             0.8888888888888888,
             "#fdca26"
            ],
            [
             1,
             "#f0f921"
            ]
           ]
          },
          "colorway": [
           "#636efa",
           "#EF553B",
           "#00cc96",
           "#ab63fa",
           "#FFA15A",
           "#19d3f3",
           "#FF6692",
           "#B6E880",
           "#FF97FF",
           "#FECB52"
          ],
          "font": {
           "color": "#2a3f5f"
          },
          "geo": {
           "bgcolor": "white",
           "lakecolor": "white",
           "landcolor": "#E5ECF6",
           "showlakes": true,
           "showland": true,
           "subunitcolor": "white"
          },
          "hoverlabel": {
           "align": "left"
          },
          "hovermode": "closest",
          "mapbox": {
           "style": "light"
          },
          "paper_bgcolor": "white",
          "plot_bgcolor": "#E5ECF6",
          "polar": {
           "angularaxis": {
            "gridcolor": "white",
            "linecolor": "white",
            "ticks": ""
           },
           "bgcolor": "#E5ECF6",
           "radialaxis": {
            "gridcolor": "white",
            "linecolor": "white",
            "ticks": ""
           }
          },
          "scene": {
           "xaxis": {
            "backgroundcolor": "#E5ECF6",
            "gridcolor": "white",
            "gridwidth": 2,
            "linecolor": "white",
            "showbackground": true,
            "ticks": "",
            "zerolinecolor": "white"
           },
           "yaxis": {
            "backgroundcolor": "#E5ECF6",
            "gridcolor": "white",
            "gridwidth": 2,
            "linecolor": "white",
            "showbackground": true,
            "ticks": "",
            "zerolinecolor": "white"
           },
           "zaxis": {
            "backgroundcolor": "#E5ECF6",
            "gridcolor": "white",
            "gridwidth": 2,
            "linecolor": "white",
            "showbackground": true,
            "ticks": "",
            "zerolinecolor": "white"
           }
          },
          "shapedefaults": {
           "line": {
            "color": "#2a3f5f"
           }
          },
          "ternary": {
           "aaxis": {
            "gridcolor": "white",
            "linecolor": "white",
            "ticks": ""
           },
           "baxis": {
            "gridcolor": "white",
            "linecolor": "white",
            "ticks": ""
           },
           "bgcolor": "#E5ECF6",
           "caxis": {
            "gridcolor": "white",
            "linecolor": "white",
            "ticks": ""
           }
          },
          "title": {
           "x": 0.05
          },
          "xaxis": {
           "automargin": true,
           "gridcolor": "white",
           "linecolor": "white",
           "ticks": "",
           "title": {
            "standoff": 15
           },
           "zerolinecolor": "white",
           "zerolinewidth": 2
          },
          "yaxis": {
           "automargin": true,
           "gridcolor": "white",
           "linecolor": "white",
           "ticks": "",
           "title": {
            "standoff": 15
           },
           "zerolinecolor": "white",
           "zerolinewidth": 2
          }
         }
        },
        "title": {
         "text": "Feature Contributions"
        },
        "width": 800,
        "xaxis": {
         "anchor": "y",
         "domain": [
          0,
          1
         ],
         "title": {
          "text": "PC3"
         }
        },
        "yaxis": {
         "anchor": "x",
         "domain": [
          0,
          1
         ],
         "title": {
          "text": "PC4"
         }
        }
       }
      }
     },
     "metadata": {},
     "output_type": "display_data"
    },
    {
     "name": "stdout",
     "output_type": "stream",
     "text": [
      "Explained variance ratio by PCA components: [0.24657041 0.04330479 0.03447293 0.03216725 0.028926  ]\n"
     ]
    }
   ],
   "source": [
    "tpm_all_dim = classify_using_tpm_with_pca(train_tpm, test_tpm, ALL_FEATURES)"
   ]
  },
  {
   "cell_type": "code",
   "execution_count": 6,
   "metadata": {},
   "outputs": [
    {
     "name": "stderr",
     "output_type": "stream",
     "text": [
      "/Library/Frameworks/Python.framework/Versions/3.10/lib/python3.10/site-packages/sklearn/linear_model/_logistic.py:469: ConvergenceWarning:\n",
      "\n",
      "lbfgs failed to converge (status=1):\n",
      "STOP: TOTAL NO. of ITERATIONS REACHED LIMIT.\n",
      "\n",
      "Increase the number of iterations (max_iter) or scale the data as shown in:\n",
      "    https://scikit-learn.org/stable/modules/preprocessing.html\n",
      "Please also refer to the documentation for alternative solver options:\n",
      "    https://scikit-learn.org/stable/modules/linear_model.html#logistic-regression\n",
      "\n",
      "/Library/Frameworks/Python.framework/Versions/3.10/lib/python3.10/site-packages/sklearn/linear_model/_logistic.py:469: ConvergenceWarning:\n",
      "\n",
      "lbfgs failed to converge (status=1):\n",
      "STOP: TOTAL NO. of ITERATIONS REACHED LIMIT.\n",
      "\n",
      "Increase the number of iterations (max_iter) or scale the data as shown in:\n",
      "    https://scikit-learn.org/stable/modules/preprocessing.html\n",
      "Please also refer to the documentation for alternative solver options:\n",
      "    https://scikit-learn.org/stable/modules/linear_model.html#logistic-regression\n",
      "\n",
      "/Library/Frameworks/Python.framework/Versions/3.10/lib/python3.10/site-packages/sklearn/linear_model/_logistic.py:469: ConvergenceWarning:\n",
      "\n",
      "lbfgs failed to converge (status=1):\n",
      "STOP: TOTAL NO. of ITERATIONS REACHED LIMIT.\n",
      "\n",
      "Increase the number of iterations (max_iter) or scale the data as shown in:\n",
      "    https://scikit-learn.org/stable/modules/preprocessing.html\n",
      "Please also refer to the documentation for alternative solver options:\n",
      "    https://scikit-learn.org/stable/modules/linear_model.html#logistic-regression\n",
      "\n",
      "/Library/Frameworks/Python.framework/Versions/3.10/lib/python3.10/site-packages/sklearn/linear_model/_logistic.py:469: ConvergenceWarning:\n",
      "\n",
      "lbfgs failed to converge (status=1):\n",
      "STOP: TOTAL NO. of ITERATIONS REACHED LIMIT.\n",
      "\n",
      "Increase the number of iterations (max_iter) or scale the data as shown in:\n",
      "    https://scikit-learn.org/stable/modules/preprocessing.html\n",
      "Please also refer to the documentation for alternative solver options:\n",
      "    https://scikit-learn.org/stable/modules/linear_model.html#logistic-regression\n",
      "\n"
     ]
    },
    {
     "name": "stdout",
     "output_type": "stream",
     "text": [
      "Top 5 predictive features for d_content_average:\n",
      "hasnegative: -0.7662223999938567\n",
      "direct_question: -0.628093288335286\n",
      "factuality: 0.5694172100797291\n",
      "2nd_person: -0.4901181692589242\n",
      "1st_person_start: 0.45655191016250146\n",
      "\n",
      "\n",
      "Top 5 predictive features for d_expression_average:\n",
      "2nd_person: -0.8379396812527075\n",
      "subjunctive: -0.6649044490741922\n",
      "1st_person_start: 0.5935545169822981\n",
      "hasnegative: -0.5646761284081977\n",
      "factuality: 0.49594868929898517\n",
      "\n",
      "\n",
      "Top 5 predictive features for oi_content_average:\n",
      "hasnegative: -0.9430988090596286\n",
      "factuality: 0.5494432955992082\n",
      "haspositive: 0.5105106641893447\n",
      "hedges: 0.4985978870418739\n",
      "2nd_person: -0.47503263695182923\n",
      "\n",
      "\n",
      "Top 5 predictive features for oi_expression_average:\n",
      "hashedge: -0.7115748203444149\n",
      "1st_person: 0.543783366792791\n",
      "1st_person_start: -0.2911873062025171\n",
      "direct_start: 0.26849839493837624\n",
      "1st_person_pl: 0.26821377075842884\n",
      "\n",
      "\n"
     ]
    }
   ],
   "source": [
    "tpm_full_dim = classify_using_tpm_with_logreg(train_tpm,test_tpm)"
   ]
  },
  {
   "cell_type": "code",
   "execution_count": 7,
   "metadata": {},
   "outputs": [],
   "source": [
    "# get_stage1_label_counts(tpm_out_put_reduced_dim)"
   ]
  },
  {
   "cell_type": "code",
   "execution_count": 8,
   "metadata": {},
   "outputs": [
    {
     "name": "stdout",
     "output_type": "stream",
     "text": [
      "Counts of 1's:\n",
      "{'d_content_average': 0.63, 'd_expression_average': 0.59, 'oi_content_average': 0.61, 'oi_expression_average': 0.43, 'dataset_numeric': 0.85}\n",
      "\n",
      "Counts of 0's:\n",
      "{'d_content_average': 0.37, 'd_expression_average': 0.41, 'oi_content_average': 0.39, 'oi_expression_average': 0.57, 'dataset_numeric': 0.15}\n"
     ]
    }
   ],
   "source": [
    "get_stage1_label_counts(tpm_full_dim)"
   ]
  },
  {
   "cell_type": "code",
   "execution_count": 9,
   "metadata": {},
   "outputs": [
    {
     "name": "stdout",
     "output_type": "stream",
     "text": [
      "Counts of 1's:\n",
      "{'d_content_average': 0.99, 'd_expression_average': 0.98, 'oi_content_average': 0.98, 'oi_expression_average': 0.0, 'dataset_numeric': 0.43}\n",
      "\n",
      "Counts of 0's:\n",
      "{'d_content_average': 0.0, 'd_expression_average': 0.01, 'oi_content_average': 0.01, 'oi_expression_average': 0.99, 'dataset_numeric': 0.56}\n"
     ]
    }
   ],
   "source": [
    "embeddings = unpickle_embeddings(\"../sandbox/embeddings/stage_1_outputs/stage1_embeddings_output.pickle\")\n",
    "get_stage1_label_counts(embeddings)"
   ]
  },
  {
   "cell_type": "code",
   "execution_count": 10,
   "metadata": {},
   "outputs": [
    {
     "name": "stdout",
     "output_type": "stream",
     "text": [
      "Counts of 1's:\n",
      "{'d_content_average': 0.68, 'd_expression_average': 0.53, 'oi_content_average': 0.56, 'oi_expression_average': 0.04, 'dataset_numeric': 0.38}\n",
      "\n",
      "Counts of 0's:\n",
      "{'d_content_average': 0.27, 'd_expression_average': 0.29, 'oi_content_average': 0.29, 'oi_expression_average': 0.79, 'dataset_numeric': 0.62}\n"
     ]
    }
   ],
   "source": [
    "# Dataset hand-labeled by RAs\n",
    "original_hand_labeled = unpickle_embeddings(\"../sandbox/embeddings/initial_inputs/embeddings_hand_labeled.pickle\")\n",
    "get_stage1_label_counts(original_hand_labeled)"
   ]
  },
  {
   "cell_type": "markdown",
   "metadata": {},
   "source": [
    "### Reduce dimensions\n",
    "### Try XGBoost, MLP\n",
    "### Relax binary assumption\n",
    "### LR with L1,L2 penalty\n",
    "### Sample Weighting"
   ]
  },
  {
   "cell_type": "code",
   "execution_count": 11,
   "metadata": {},
   "outputs": [
    {
     "name": "stdout",
     "output_type": "stream",
     "text": [
      "Feature importances:\n",
      "d_content_average:\n",
      "sadness_lexical_per_100: 0.04499288275837898\n",
      "second_person_lexical_per_100: 0.061536308377981186\n",
      "positive_words_lexical_per_100: 0.04236001521348953\n",
      "first_person_lexical_per_100: 0.03622331842780113\n",
      "hedge_words_lexical_per_100: 0.08050639182329178\n",
      "num_question_naive: 0.049231041222810745\n",
      "word_TTR: 0.03439102694392204\n",
      "first_pronouns_proportion: 0.04312300682067871\n",
      "mimicry_bert: 0.04528135806322098\n",
      "moving_mimicry: 0.04617634043097496\n",
      "please: 0.0\n",
      "hashedge: 0.021969936788082123\n",
      "indirect_btw: 0.0\n",
      "hedges: 0.04755619913339615\n",
      "factuality: 0.0387289933860302\n",
      "gratitude: 0.0\n",
      "apologizing: 0.020720643922686577\n",
      "1st_person_pl: 0.052855681627988815\n",
      "1st_person: 0.03178779035806656\n",
      "2nd_person: 0.021943124011158943\n",
      "direct_question: 0.08855170756578445\n",
      "direct_start: 0.04874487221240997\n",
      "haspositive: 0.04858361929655075\n",
      "hasnegative: 0.09473569691181183\n",
      "\n",
      "\n",
      "d_expression_average:\n",
      "sadness_lexical_per_100: 0.07559312134981155\n",
      "second_person_lexical_per_100: 0.044345930218696594\n",
      "positive_words_lexical_per_100: 0.031379397958517075\n",
      "first_person_lexical_per_100: 0.0383613184094429\n",
      "hedge_words_lexical_per_100: 0.089695043861866\n",
      "num_question_naive: 0.06099393963813782\n",
      "word_TTR: 0.05056275427341461\n",
      "first_pronouns_proportion: 0.05631707236170769\n",
      "mimicry_bert: 0.04589874669909477\n",
      "moving_mimicry: 0.04328162595629692\n",
      "please: 0.0\n",
      "hashedge: 0.0266623105853796\n",
      "indirect_btw: 0.0\n",
      "hedges: 0.07151338458061218\n",
      "factuality: 0.06846845149993896\n",
      "gratitude: 0.0\n",
      "apologizing: 0.0\n",
      "1st_person_pl: 0.053166065365076065\n",
      "1st_person: 0.04331306368112564\n",
      "2nd_person: 0.024713102728128433\n",
      "direct_question: 0.031805314123630524\n",
      "direct_start: 0.04628092423081398\n",
      "haspositive: 0.0640813335776329\n",
      "hasnegative: 0.03356710448861122\n",
      "\n",
      "\n",
      "oi_content_average:\n",
      "sadness_lexical_per_100: 0.0485529750585556\n",
      "second_person_lexical_per_100: 0.05974499508738518\n",
      "positive_words_lexical_per_100: 0.04938198998570442\n",
      "first_person_lexical_per_100: 0.04008425399661064\n",
      "hedge_words_lexical_per_100: 0.039838433265686035\n",
      "num_question_naive: 0.04494992271065712\n",
      "word_TTR: 0.05285356193780899\n",
      "first_pronouns_proportion: 0.05564318224787712\n",
      "mimicry_bert: 0.05819421261548996\n",
      "moving_mimicry: 0.06673138588666916\n",
      "please: 0.0\n",
      "hashedge: 0.03519617021083832\n",
      "indirect_btw: 0.0\n",
      "hedges: 0.06022585555911064\n",
      "factuality: 0.0486910343170166\n",
      "gratitude: 0.0\n",
      "apologizing: 0.01818443089723587\n",
      "1st_person_pl: 0.050106849521398544\n",
      "1st_person: 0.038738541305065155\n",
      "2nd_person: 0.012536928988993168\n",
      "direct_question: 0.0718233585357666\n",
      "direct_start: 0.03635868802666664\n",
      "haspositive: 0.04516080394387245\n",
      "hasnegative: 0.06700239330530167\n",
      "\n",
      "\n",
      "oi_expression_average:\n",
      "sadness_lexical_per_100: 0.0700388178229332\n",
      "second_person_lexical_per_100: 0.04991145059466362\n",
      "positive_words_lexical_per_100: 0.05391410365700722\n",
      "first_person_lexical_per_100: 0.050865720957517624\n",
      "hedge_words_lexical_per_100: 0.015095733106136322\n",
      "num_question_naive: 0.06561395525932312\n",
      "word_TTR: 0.044842083007097244\n",
      "first_pronouns_proportion: 0.052317533642053604\n",
      "mimicry_bert: 0.04922301694750786\n",
      "moving_mimicry: 0.04158753529191017\n",
      "please: 0.0\n",
      "hashedge: 0.08808549493551254\n",
      "indirect_btw: 0.0\n",
      "hedges: 0.03973788022994995\n",
      "factuality: 0.008726355619728565\n",
      "gratitude: 0.0\n",
      "apologizing: 0.0\n",
      "1st_person_pl: 0.036161020398139954\n",
      "1st_person: 0.032588399946689606\n",
      "2nd_person: 0.026653369888663292\n",
      "direct_question: 0.08186555653810501\n",
      "direct_start: 0.13799278438091278\n",
      "haspositive: 0.03243577480316162\n",
      "hasnegative: 0.022343400865793228\n",
      "\n",
      "\n",
      "Feature Importances:\n",
      "Model for d_content_average:\n",
      "  sadness_lexical_per_100: 0.02065682514239919\n",
      "  second_person_lexical_per_100: 0.07793812080696211\n",
      "  positive_words_lexical_per_100: 0.03867744197620234\n",
      "  first_person_lexical_per_100: 0.038862089538434445\n",
      "  hedge_words_lexical_per_100: 0.04320050600885514\n",
      "  num_question_naive: 0.023594553529686778\n",
      "  word_TTR: 0.09791925761353118\n",
      "  first_pronouns_proportion: 0.14577790738613483\n",
      "  mimicry_bert: 0.06678319995599924\n",
      "  moving_mimicry: 0.22018639244837585\n",
      "  please: 0.01450402898494824\n",
      "  hashedge: 0.03992221192485668\n",
      "  indirect_btw: 0.0\n",
      "  hedges: 0.015502885010498723\n",
      "  factuality: 0.010069811589611446\n",
      "  gratitude: 0.0\n",
      "  apologizing: 0.009992987377279106\n",
      "  1st_person_pl: 0.02326986555598056\n",
      "  1st_person: 0.024871435250116883\n",
      "  2nd_person: 0.013323983169705473\n",
      "  direct_question: 0.026730764556787162\n",
      "  direct_start: 0.011021677254351952\n",
      "  haspositive: 0.021648276865499246\n",
      "  hasnegative: 0.015545778053783628\n",
      "\n",
      "\n",
      "Model for d_expression_average:\n",
      "  sadness_lexical_per_100: 0.01314860547207456\n",
      "  second_person_lexical_per_100: 0.061339792556076314\n",
      "  positive_words_lexical_per_100: 0.07236288713727916\n",
      "  first_person_lexical_per_100: 0.03487077304927461\n",
      "  hedge_words_lexical_per_100: 0.03850183323987741\n",
      "  num_question_naive: 0.007422599863267899\n",
      "  word_TTR: 0.16553413297597064\n",
      "  first_pronouns_proportion: 0.14229518981228537\n",
      "  mimicry_bert: 0.14711639116913147\n",
      "  moving_mimicry: 0.1907977924276815\n",
      "  please: 0.0\n",
      "  hashedge: 0.023224173033724763\n",
      "  indirect_btw: 0.0\n",
      "  hedges: 0.014254765646503121\n",
      "  factuality: 0.010515349806296191\n",
      "  gratitude: 0.0\n",
      "  apologizing: 0.0\n",
      "  1st_person_pl: 0.005036764192931791\n",
      "  1st_person: 0.02621416087574893\n",
      "  2nd_person: 0.019484324641078236\n",
      "  direct_question: 0.009639740082166101\n",
      "  direct_start: 0.0\n",
      "  haspositive: 0.01824072401863201\n",
      "  hasnegative: 0.0\n",
      "\n",
      "\n",
      "Model for oi_content_average:\n",
      "  sadness_lexical_per_100: 0.028961363151718045\n",
      "  second_person_lexical_per_100: 0.034851934084670654\n",
      "  positive_words_lexical_per_100: 0.05791947319973391\n",
      "  first_person_lexical_per_100: 0.0\n",
      "  hedge_words_lexical_per_100: 0.025453659724759468\n",
      "  num_question_naive: 0.04663564019583291\n",
      "  word_TTR: 0.10633357545968314\n",
      "  first_pronouns_proportion: 0.0860835325764418\n",
      "  mimicry_bert: 0.25732138521517356\n",
      "  moving_mimicry: 0.23345646049232113\n",
      "  please: 0.0\n",
      "  hashedge: 0.011070082779703082\n",
      "  indirect_btw: 0.0\n",
      "  hedges: 0.0\n",
      "  factuality: 0.009089120598072\n",
      "  gratitude: 0.0\n",
      "  apologizing: 0.017990473781485838\n",
      "  1st_person_pl: 0.01211396813667415\n",
      "  1st_person: 0.0\n",
      "  2nd_person: 0.009789869124907489\n",
      "  direct_question: 0.01073450561941612\n",
      "  direct_start: 0.010743427805904959\n",
      "  haspositive: 0.01412831912811473\n",
      "  hasnegative: 0.027323208925386963\n",
      "\n",
      "\n",
      "Model for oi_expression_average:\n",
      "  sadness_lexical_per_100: 0.021446624477124903\n",
      "  second_person_lexical_per_100: 0.10485361740373599\n",
      "  positive_words_lexical_per_100: 0.028675826695385407\n",
      "  first_person_lexical_per_100: 0.026024904214559386\n",
      "  hedge_words_lexical_per_100: 0.013346104725415071\n",
      "  num_question_naive: 0.034192976962373445\n",
      "  word_TTR: 0.1022733768407055\n",
      "  first_pronouns_proportion: 0.10329438521995714\n",
      "  mimicry_bert: 0.16555360794595528\n",
      "  moving_mimicry: 0.20514539046626576\n",
      "  please: 0.0\n",
      "  hashedge: 0.006004001777082979\n",
      "  indirect_btw: 0.0\n",
      "  hedges: 0.0\n",
      "  factuality: 0.010009578544061303\n",
      "  gratitude: 0.0\n",
      "  apologizing: 0.0\n",
      "  1st_person_pl: 0.031002372056320872\n",
      "  1st_person: 0.02585318811070402\n",
      "  2nd_person: 0.006005747126436778\n",
      "  direct_question: 0.017209450830140513\n",
      "  direct_start: 0.03838407010313706\n",
      "  haspositive: 0.010009578544061303\n",
      "  hasnegative: 0.05071519795657727\n",
      "\n",
      "\n"
     ]
    },
    {
     "data": {
      "text/html": [
       "<div>\n",
       "<style scoped>\n",
       "    .dataframe tbody tr th:only-of-type {\n",
       "        vertical-align: middle;\n",
       "    }\n",
       "\n",
       "    .dataframe tbody tr th {\n",
       "        vertical-align: top;\n",
       "    }\n",
       "\n",
       "    .dataframe thead th {\n",
       "        text-align: right;\n",
       "    }\n",
       "</style>\n",
       "<table border=\"1\" class=\"dataframe\">\n",
       "  <thead>\n",
       "    <tr style=\"text-align: right;\">\n",
       "      <th></th>\n",
       "      <th>Unnamed0</th>\n",
       "      <th>conversation_num</th>\n",
       "      <th>message</th>\n",
       "      <th>speaker_nickname</th>\n",
       "      <th>id</th>\n",
       "      <th>timestamp</th>\n",
       "      <th>metascore</th>\n",
       "      <th>reply_to</th>\n",
       "      <th>conversation_length</th>\n",
       "      <th>dataset_numeric</th>\n",
       "      <th>...</th>\n",
       "      <th>haspositive</th>\n",
       "      <th>hasnegative</th>\n",
       "      <th>subjunctive</th>\n",
       "      <th>indicative</th>\n",
       "      <th>forward_flow</th>\n",
       "      <th>certainty_rocklage</th>\n",
       "      <th>d_content_average</th>\n",
       "      <th>d_expression_average</th>\n",
       "      <th>oi_content_average</th>\n",
       "      <th>oi_expression_average</th>\n",
       "    </tr>\n",
       "  </thead>\n",
       "  <tbody>\n",
       "    <tr>\n",
       "      <th>0</th>\n",
       "      <td>13691</td>\n",
       "      <td>1019_A</td>\n",
       "      <td>the actual leaders of bailedout firms should b...</td>\n",
       "      <td>Rimfish</td>\n",
       "      <td>t3_292cja</td>\n",
       "      <td>0.000000e+00</td>\n",
       "      <td>0.0</td>\n",
       "      <td>ORIGINAL_POST</td>\n",
       "      <td>5</td>\n",
       "      <td>0</td>\n",
       "      <td>...</td>\n",
       "      <td>1</td>\n",
       "      <td>1</td>\n",
       "      <td>0</td>\n",
       "      <td>0</td>\n",
       "      <td>0.000000</td>\n",
       "      <td>5.647778</td>\n",
       "      <td>1</td>\n",
       "      <td>1</td>\n",
       "      <td>0</td>\n",
       "      <td>0</td>\n",
       "    </tr>\n",
       "    <tr>\n",
       "      <th>1</th>\n",
       "      <td>13692</td>\n",
       "      <td>1019_A</td>\n",
       "      <td>its not business leaders who keep the profits ...</td>\n",
       "      <td>Thoguth</td>\n",
       "      <td>t1_cigrpj8_1</td>\n",
       "      <td>1.403717e+09</td>\n",
       "      <td>2.0</td>\n",
       "      <td>t3_292cja</td>\n",
       "      <td>5</td>\n",
       "      <td>0</td>\n",
       "      <td>...</td>\n",
       "      <td>1</td>\n",
       "      <td>1</td>\n",
       "      <td>0</td>\n",
       "      <td>0</td>\n",
       "      <td>0.496333</td>\n",
       "      <td>5.753333</td>\n",
       "      <td>1</td>\n",
       "      <td>1</td>\n",
       "      <td>1</td>\n",
       "      <td>0</td>\n",
       "    </tr>\n",
       "    <tr>\n",
       "      <th>2</th>\n",
       "      <td>13693</td>\n",
       "      <td>1019_A</td>\n",
       "      <td>so  theres really not that much of a moral haz...</td>\n",
       "      <td>Thoguth</td>\n",
       "      <td>t1_cigrpj8_2</td>\n",
       "      <td>1.403717e+09</td>\n",
       "      <td>2.0</td>\n",
       "      <td>t3_292cja</td>\n",
       "      <td>5</td>\n",
       "      <td>0</td>\n",
       "      <td>...</td>\n",
       "      <td>1</td>\n",
       "      <td>1</td>\n",
       "      <td>0</td>\n",
       "      <td>0</td>\n",
       "      <td>0.519183</td>\n",
       "      <td>5.420000</td>\n",
       "      <td>1</td>\n",
       "      <td>1</td>\n",
       "      <td>1</td>\n",
       "      <td>0</td>\n",
       "    </tr>\n",
       "    <tr>\n",
       "      <th>3</th>\n",
       "      <td>13694</td>\n",
       "      <td>1019_A</td>\n",
       "      <td>on the other hand the shareholder of a failing...</td>\n",
       "      <td>Thoguth</td>\n",
       "      <td>t1_cigrpj8_3</td>\n",
       "      <td>1.403717e+09</td>\n",
       "      <td>2.0</td>\n",
       "      <td>t3_292cja</td>\n",
       "      <td>5</td>\n",
       "      <td>0</td>\n",
       "      <td>...</td>\n",
       "      <td>1</td>\n",
       "      <td>1</td>\n",
       "      <td>0</td>\n",
       "      <td>0</td>\n",
       "      <td>0.679783</td>\n",
       "      <td>5.450000</td>\n",
       "      <td>1</td>\n",
       "      <td>1</td>\n",
       "      <td>0</td>\n",
       "      <td>1</td>\n",
       "    </tr>\n",
       "    <tr>\n",
       "      <th>4</th>\n",
       "      <td>13695</td>\n",
       "      <td>1019_A</td>\n",
       "      <td>business owners are often also shareholders wh...</td>\n",
       "      <td>Rimfish</td>\n",
       "      <td>t1_cigsdsm</td>\n",
       "      <td>1.403718e+09</td>\n",
       "      <td>0.0</td>\n",
       "      <td>t1_cigrpj8</td>\n",
       "      <td>5</td>\n",
       "      <td>0</td>\n",
       "      <td>...</td>\n",
       "      <td>1</td>\n",
       "      <td>0</td>\n",
       "      <td>0</td>\n",
       "      <td>0</td>\n",
       "      <td>0.411667</td>\n",
       "      <td>6.626667</td>\n",
       "      <td>0</td>\n",
       "      <td>0</td>\n",
       "      <td>1</td>\n",
       "      <td>0</td>\n",
       "    </tr>\n",
       "    <tr>\n",
       "      <th>...</th>\n",
       "      <td>...</td>\n",
       "      <td>...</td>\n",
       "      <td>...</td>\n",
       "      <td>...</td>\n",
       "      <td>...</td>\n",
       "      <td>...</td>\n",
       "      <td>...</td>\n",
       "      <td>...</td>\n",
       "      <td>...</td>\n",
       "      <td>...</td>\n",
       "      <td>...</td>\n",
       "      <td>...</td>\n",
       "      <td>...</td>\n",
       "      <td>...</td>\n",
       "      <td>...</td>\n",
       "      <td>...</td>\n",
       "      <td>...</td>\n",
       "      <td>...</td>\n",
       "      <td>...</td>\n",
       "      <td>...</td>\n",
       "      <td>...</td>\n",
       "    </tr>\n",
       "    <tr>\n",
       "      <th>76884</th>\n",
       "      <td>129391</td>\n",
       "      <td>e8r47cx</td>\n",
       "      <td>you dont think a culture of murder theft rape ...</td>\n",
       "      <td>adidasbdd</td>\n",
       "      <td>e8rcogi</td>\n",
       "      <td>1.540945e+09</td>\n",
       "      <td>-1.0</td>\n",
       "      <td>e8rabip</td>\n",
       "      <td>7</td>\n",
       "      <td>1</td>\n",
       "      <td>...</td>\n",
       "      <td>0</td>\n",
       "      <td>1</td>\n",
       "      <td>0</td>\n",
       "      <td>0</td>\n",
       "      <td>0.612434</td>\n",
       "      <td>2.530000</td>\n",
       "      <td>1</td>\n",
       "      <td>0</td>\n",
       "      <td>0</td>\n",
       "      <td>0</td>\n",
       "    </tr>\n",
       "    <tr>\n",
       "      <th>76885</th>\n",
       "      <td>129392</td>\n",
       "      <td>e8r47cx</td>\n",
       "      <td>i think that doesnt exist in america</td>\n",
       "      <td>maybe_bait</td>\n",
       "      <td>e8rdfca</td>\n",
       "      <td>1.540945e+09</td>\n",
       "      <td>-2.0</td>\n",
       "      <td>e8rcogi</td>\n",
       "      <td>7</td>\n",
       "      <td>1</td>\n",
       "      <td>...</td>\n",
       "      <td>0</td>\n",
       "      <td>0</td>\n",
       "      <td>0</td>\n",
       "      <td>0</td>\n",
       "      <td>0.843804</td>\n",
       "      <td>4.610000</td>\n",
       "      <td>1</td>\n",
       "      <td>1</td>\n",
       "      <td>1</td>\n",
       "      <td>0</td>\n",
       "    </tr>\n",
       "    <tr>\n",
       "      <th>76886</th>\n",
       "      <td>129393</td>\n",
       "      <td>e8r47cx</td>\n",
       "      <td>the vast majority of the rapes murders thefts ...</td>\n",
       "      <td>adidasbdd</td>\n",
       "      <td>e8rdksn</td>\n",
       "      <td>1.540945e+09</td>\n",
       "      <td>0.0</td>\n",
       "      <td>e8rdfca</td>\n",
       "      <td>7</td>\n",
       "      <td>1</td>\n",
       "      <td>...</td>\n",
       "      <td>0</td>\n",
       "      <td>1</td>\n",
       "      <td>0</td>\n",
       "      <td>0</td>\n",
       "      <td>0.487119</td>\n",
       "      <td>7.505000</td>\n",
       "      <td>1</td>\n",
       "      <td>0</td>\n",
       "      <td>1</td>\n",
       "      <td>0</td>\n",
       "    </tr>\n",
       "    <tr>\n",
       "      <th>76887</th>\n",
       "      <td>129394</td>\n",
       "      <td>e8r47cx</td>\n",
       "      <td>society is forged by a coalition of people may...</td>\n",
       "      <td>maybe_bait</td>\n",
       "      <td>e8rk76w</td>\n",
       "      <td>1.540951e+09</td>\n",
       "      <td>-1.0</td>\n",
       "      <td>e8rdksn</td>\n",
       "      <td>7</td>\n",
       "      <td>1</td>\n",
       "      <td>...</td>\n",
       "      <td>0</td>\n",
       "      <td>1</td>\n",
       "      <td>0</td>\n",
       "      <td>0</td>\n",
       "      <td>0.555410</td>\n",
       "      <td>3.790000</td>\n",
       "      <td>1</td>\n",
       "      <td>1</td>\n",
       "      <td>1</td>\n",
       "      <td>0</td>\n",
       "    </tr>\n",
       "    <tr>\n",
       "      <th>76888</th>\n",
       "      <td>129395</td>\n",
       "      <td>e8r47cx</td>\n",
       "      <td>men have everything stacked against are you ki...</td>\n",
       "      <td>Vodkya</td>\n",
       "      <td>e8rwol8</td>\n",
       "      <td>1.540966e+09</td>\n",
       "      <td>2.0</td>\n",
       "      <td>e8rk76w</td>\n",
       "      <td>7</td>\n",
       "      <td>1</td>\n",
       "      <td>...</td>\n",
       "      <td>0</td>\n",
       "      <td>1</td>\n",
       "      <td>0</td>\n",
       "      <td>0</td>\n",
       "      <td>0.589366</td>\n",
       "      <td>3.890000</td>\n",
       "      <td>1</td>\n",
       "      <td>1</td>\n",
       "      <td>1</td>\n",
       "      <td>0</td>\n",
       "    </tr>\n",
       "  </tbody>\n",
       "</table>\n",
       "<p>76889 rows × 117 columns</p>\n",
       "</div>"
      ],
      "text/plain": [
       "       Unnamed0 conversation_num  \\\n",
       "0         13691           1019_A   \n",
       "1         13692           1019_A   \n",
       "2         13693           1019_A   \n",
       "3         13694           1019_A   \n",
       "4         13695           1019_A   \n",
       "...         ...              ...   \n",
       "76884    129391          e8r47cx   \n",
       "76885    129392          e8r47cx   \n",
       "76886    129393          e8r47cx   \n",
       "76887    129394          e8r47cx   \n",
       "76888    129395          e8r47cx   \n",
       "\n",
       "                                                 message speaker_nickname  \\\n",
       "0      the actual leaders of bailedout firms should b...          Rimfish   \n",
       "1      its not business leaders who keep the profits ...          Thoguth   \n",
       "2      so  theres really not that much of a moral haz...          Thoguth   \n",
       "3      on the other hand the shareholder of a failing...          Thoguth   \n",
       "4      business owners are often also shareholders wh...          Rimfish   \n",
       "...                                                  ...              ...   \n",
       "76884  you dont think a culture of murder theft rape ...        adidasbdd   \n",
       "76885              i think that doesnt exist in america        maybe_bait   \n",
       "76886  the vast majority of the rapes murders thefts ...        adidasbdd   \n",
       "76887  society is forged by a coalition of people may...       maybe_bait   \n",
       "76888  men have everything stacked against are you ki...           Vodkya   \n",
       "\n",
       "                 id     timestamp  metascore       reply_to  \\\n",
       "0         t3_292cja  0.000000e+00        0.0  ORIGINAL_POST   \n",
       "1      t1_cigrpj8_1  1.403717e+09        2.0      t3_292cja   \n",
       "2      t1_cigrpj8_2  1.403717e+09        2.0      t3_292cja   \n",
       "3      t1_cigrpj8_3  1.403717e+09        2.0      t3_292cja   \n",
       "4        t1_cigsdsm  1.403718e+09        0.0     t1_cigrpj8   \n",
       "...             ...           ...        ...            ...   \n",
       "76884       e8rcogi  1.540945e+09       -1.0        e8rabip   \n",
       "76885       e8rdfca  1.540945e+09       -2.0        e8rcogi   \n",
       "76886       e8rdksn  1.540945e+09        0.0        e8rdfca   \n",
       "76887       e8rk76w  1.540951e+09       -1.0        e8rdksn   \n",
       "76888       e8rwol8  1.540966e+09        2.0        e8rk76w   \n",
       "\n",
       "       conversation_length  dataset_numeric  ... haspositive  hasnegative  \\\n",
       "0                        5                0  ...           1            1   \n",
       "1                        5                0  ...           1            1   \n",
       "2                        5                0  ...           1            1   \n",
       "3                        5                0  ...           1            1   \n",
       "4                        5                0  ...           1            0   \n",
       "...                    ...              ...  ...         ...          ...   \n",
       "76884                    7                1  ...           0            1   \n",
       "76885                    7                1  ...           0            0   \n",
       "76886                    7                1  ...           0            1   \n",
       "76887                    7                1  ...           0            1   \n",
       "76888                    7                1  ...           0            1   \n",
       "\n",
       "       subjunctive  indicative  forward_flow  certainty_rocklage  \\\n",
       "0                0           0      0.000000            5.647778   \n",
       "1                0           0      0.496333            5.753333   \n",
       "2                0           0      0.519183            5.420000   \n",
       "3                0           0      0.679783            5.450000   \n",
       "4                0           0      0.411667            6.626667   \n",
       "...            ...         ...           ...                 ...   \n",
       "76884            0           0      0.612434            2.530000   \n",
       "76885            0           0      0.843804            4.610000   \n",
       "76886            0           0      0.487119            7.505000   \n",
       "76887            0           0      0.555410            3.790000   \n",
       "76888            0           0      0.589366            3.890000   \n",
       "\n",
       "       d_content_average  d_expression_average  oi_content_average  \\\n",
       "0                      1                     1                   0   \n",
       "1                      1                     1                   1   \n",
       "2                      1                     1                   1   \n",
       "3                      1                     1                   0   \n",
       "4                      0                     0                   1   \n",
       "...                  ...                   ...                 ...   \n",
       "76884                  1                     0                   0   \n",
       "76885                  1                     1                   1   \n",
       "76886                  1                     0                   1   \n",
       "76887                  1                     1                   1   \n",
       "76888                  1                     1                   1   \n",
       "\n",
       "       oi_expression_average  \n",
       "0                          0  \n",
       "1                          0  \n",
       "2                          0  \n",
       "3                          1  \n",
       "4                          0  \n",
       "...                      ...  \n",
       "76884                      0  \n",
       "76885                      0  \n",
       "76886                      0  \n",
       "76887                      0  \n",
       "76888                      0  \n",
       "\n",
       "[76889 rows x 117 columns]"
      ]
     },
     "execution_count": 11,
     "metadata": {},
     "output_type": "execute_result"
    }
   ],
   "source": [
    "classify_using_tpm_with_nn(train_tpm, test_tpm, TOP_FEATURES)\n",
    "classify_using_tpm_with_xgboost(train_tpm, test_tpm, TOP_FEATURES)\n",
    "classify_using_tpm_with_decision_tree(train_tpm, test_tpm, TOP_FEATURES)"
   ]
  },
  {
   "cell_type": "code",
   "execution_count": 12,
   "metadata": {},
   "outputs": [],
   "source": [
    "# train_embeddings = unpickle_embeddings(\"../sandbox/embeddings/initial_inputs/embeddings_non_hand_labeled.pickle\")\n",
    "# reduce_embeddings_dimensionality(train_embeddings)"
   ]
  },
  {
   "cell_type": "code",
   "execution_count": 13,
   "metadata": {},
   "outputs": [],
   "source": [
    "remove_quotes_from_dataset(train_tpm,'message')"
   ]
  }
 ],
 "metadata": {
  "kernelspec": {
   "display_name": "Python 3",
   "language": "python",
   "name": "python3"
  },
  "language_info": {
   "codemirror_mode": {
    "name": "ipython",
    "version": 3
   },
   "file_extension": ".py",
   "mimetype": "text/x-python",
   "name": "python",
   "nbconvert_exporter": "python",
   "pygments_lexer": "ipython3",
   "version": "3.10.7"
  }
 },
 "nbformat": 4,
 "nbformat_minor": 2
}
