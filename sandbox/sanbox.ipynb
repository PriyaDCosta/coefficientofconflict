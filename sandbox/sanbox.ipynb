{
 "cells": [
  {
   "cell_type": "code",
   "execution_count": 184,
   "metadata": {},
   "outputs": [],
   "source": [
    "import os\n",
    "import sys\n",
    "import pandas as pd\n",
    "\n",
    "# Specify the directory containing the module you want to import\n",
    "tpm_directory = '/Users/priyadcosta/Documents/GitHub/coefficientofconflict/team-process-map/feature_engine'\n",
    "\n",
    "# Add the directory to sys.path\n",
    "sys.path.append(tpm_directory)\n"
   ]
  },
  {
   "cell_type": "markdown",
   "metadata": {},
   "source": [
    "### Step 1 : Basic Pre-processing\n",
    "\n",
    "Converting the labels to numbers and averaging them"
   ]
  },
  {
   "cell_type": "code",
   "execution_count": 185,
   "metadata": {},
   "outputs": [],
   "source": [
    "data = pd.read_csv('/Users/priyadcosta/Documents/GitHub/coefficientofconflict/tpm-data-anotation/CONFLICT_CONVO_LABELING_LOG.csv')"
   ]
  },
  {
   "cell_type": "code",
   "execution_count": 186,
   "metadata": {},
   "outputs": [],
   "source": [
    "\"\"\"\n",
    "Convert the labels into numeric scores\n",
    "\"\"\"\n",
    "\n",
    "def get_numeric_labels(text):\n",
    "\n",
    "    # Convert the text to lowercase for case-insensitive matching\n",
    "    text_lower = text.lower()\n",
    "    \n",
    "    # Initialize the result variable\n",
    "    result = 0\n",
    "    \n",
    "    # Check if \"yes\" is present in the text\n",
    "    if 'yes' in text_lower:\n",
    "        result = 1\n",
    "    elif 'no' in text_lower:\n",
    "        result = 0\n",
    "    \n",
    "    return result\n",
    "\n",
    "\"\"\"\n",
    "Convert all the columns to numeric labels\n",
    "\"\"\"\n",
    "def convert_labels(df):\n",
    "    \n",
    "    df['d_content'] = df['rating_directness_content'].apply(get_numeric_labels)\n",
    "    df['d_expression'] = df['rating_directness_expression'].apply(get_numeric_labels)\n",
    "    df['oi_content'] = df['rating_OI_content'].apply(get_numeric_labels)\n",
    "    df['oi_expression'] = df['rating_OI_expression'].apply(get_numeric_labels)\n",
    "\n",
    "\n",
    "\"\"\"\n",
    "Get the average of the ratings for a single column\n",
    "\"\"\"\n",
    "def get_averages(df,on_column):\n",
    "\n",
    "    # Calculate average ratings\n",
    "    average_ratings = df.groupby(['CONV_ID', 'id'])[on_column].mean().reset_index()\n",
    "\n",
    "    # Merge average ratings with original DataFrame\n",
    "    df = df.merge(average_ratings, on=['CONV_ID', 'id'], how='left', suffixes=('', '_average'))\n",
    "\n",
    "    return df\n",
    "\n",
    "\n",
    "\"\"\"\n",
    "Get the average ratings for all the columns\n",
    "\"\"\"\n",
    "def average_labels(df, columns):\n",
    "    for column in columns:\n",
    "        df = get_averages(df, column)\n",
    "    return df\n"
   ]
  },
  {
   "cell_type": "code",
   "execution_count": 187,
   "metadata": {},
   "outputs": [
    {
     "data": {
      "text/html": [
       "<div>\n",
       "<style scoped>\n",
       "    .dataframe tbody tr th:only-of-type {\n",
       "        vertical-align: middle;\n",
       "    }\n",
       "\n",
       "    .dataframe tbody tr th {\n",
       "        vertical-align: top;\n",
       "    }\n",
       "\n",
       "    .dataframe thead th {\n",
       "        text-align: right;\n",
       "    }\n",
       "</style>\n",
       "<table border=\"1\" class=\"dataframe\">\n",
       "  <thead>\n",
       "    <tr style=\"text-align: right;\">\n",
       "      <th></th>\n",
       "      <th>CONV_ID</th>\n",
       "      <th>id</th>\n",
       "      <th>rating_directness_content</th>\n",
       "      <th>rating_directness_expression</th>\n",
       "      <th>rating_OI_content</th>\n",
       "      <th>rating_OI_expression</th>\n",
       "      <th>rater_id</th>\n",
       "      <th>status</th>\n",
       "      <th>last_updated_time</th>\n",
       "    </tr>\n",
       "  </thead>\n",
       "  <tbody>\n",
       "    <tr>\n",
       "      <th>0</th>\n",
       "      <td>d3j4tn9</td>\n",
       "      <td>d3j4tn9_1</td>\n",
       "      <td>Yes - Direct Content</td>\n",
       "      <td>Yes - Direct Expression</td>\n",
       "      <td>Yes - Content opposes someone else</td>\n",
       "      <td>Yes - Expression is emotional/forceful</td>\n",
       "      <td>amy</td>\n",
       "      <td>done</td>\n",
       "      <td>2024-02-23 10:40:55.334794</td>\n",
       "    </tr>\n",
       "    <tr>\n",
       "      <th>1</th>\n",
       "      <td>d3j4tn9</td>\n",
       "      <td>d3j4tn9_2</td>\n",
       "      <td>Yes - Direct Content</td>\n",
       "      <td>Yes - Direct Expression</td>\n",
       "      <td>Yes - Content opposes someone else</td>\n",
       "      <td>No - Expression is not emotional/forceful</td>\n",
       "      <td>amy</td>\n",
       "      <td>done</td>\n",
       "      <td>2024-02-23 10:40:56.240762</td>\n",
       "    </tr>\n",
       "    <tr>\n",
       "      <th>2</th>\n",
       "      <td>d3j4tn9</td>\n",
       "      <td>d3jqp6d</td>\n",
       "      <td>Yes - Direct Content</td>\n",
       "      <td>Yes - Direct Expression</td>\n",
       "      <td>Yes - Content opposes someone else</td>\n",
       "      <td>Yes - Expression is emotional/forceful</td>\n",
       "      <td>amy</td>\n",
       "      <td>done</td>\n",
       "      <td>2024-02-23 10:40:57.068755</td>\n",
       "    </tr>\n",
       "    <tr>\n",
       "      <th>3</th>\n",
       "      <td>d3j4tn9</td>\n",
       "      <td>d3jtj7i</td>\n",
       "      <td>Yes - Direct Content</td>\n",
       "      <td>Yes - Direct Expression</td>\n",
       "      <td>Yes - Content opposes someone else</td>\n",
       "      <td>No - Expression is not emotional/forceful</td>\n",
       "      <td>amy</td>\n",
       "      <td>done</td>\n",
       "      <td>2024-02-23 10:40:57.947723</td>\n",
       "    </tr>\n",
       "    <tr>\n",
       "      <th>4</th>\n",
       "      <td>d3j4tn9</td>\n",
       "      <td>d3ldu4f</td>\n",
       "      <td>Yes - Direct Content</td>\n",
       "      <td>Yes - Direct Expression</td>\n",
       "      <td>Yes - Content opposes someone else</td>\n",
       "      <td>Yes - Expression is emotional/forceful</td>\n",
       "      <td>amy</td>\n",
       "      <td>done</td>\n",
       "      <td>2024-02-23 10:40:58.982175</td>\n",
       "    </tr>\n",
       "  </tbody>\n",
       "</table>\n",
       "</div>"
      ],
      "text/plain": [
       "   CONV_ID         id rating_directness_content rating_directness_expression  \\\n",
       "0  d3j4tn9  d3j4tn9_1      Yes - Direct Content      Yes - Direct Expression   \n",
       "1  d3j4tn9  d3j4tn9_2      Yes - Direct Content      Yes - Direct Expression   \n",
       "2  d3j4tn9    d3jqp6d      Yes - Direct Content      Yes - Direct Expression   \n",
       "3  d3j4tn9    d3jtj7i      Yes - Direct Content      Yes - Direct Expression   \n",
       "4  d3j4tn9    d3ldu4f      Yes - Direct Content      Yes - Direct Expression   \n",
       "\n",
       "                    rating_OI_content  \\\n",
       "0  Yes - Content opposes someone else   \n",
       "1  Yes - Content opposes someone else   \n",
       "2  Yes - Content opposes someone else   \n",
       "3  Yes - Content opposes someone else   \n",
       "4  Yes - Content opposes someone else   \n",
       "\n",
       "                        rating_OI_expression rater_id status  \\\n",
       "0     Yes - Expression is emotional/forceful      amy   done   \n",
       "1  No - Expression is not emotional/forceful      amy   done   \n",
       "2     Yes - Expression is emotional/forceful      amy   done   \n",
       "3  No - Expression is not emotional/forceful      amy   done   \n",
       "4     Yes - Expression is emotional/forceful      amy   done   \n",
       "\n",
       "            last_updated_time  \n",
       "0  2024-02-23 10:40:55.334794  \n",
       "1  2024-02-23 10:40:56.240762  \n",
       "2  2024-02-23 10:40:57.068755  \n",
       "3  2024-02-23 10:40:57.947723  \n",
       "4  2024-02-23 10:40:58.982175  "
      ]
     },
     "execution_count": 187,
     "metadata": {},
     "output_type": "execute_result"
    }
   ],
   "source": [
    "data.head()"
   ]
  },
  {
   "cell_type": "code",
   "execution_count": 188,
   "metadata": {},
   "outputs": [],
   "source": [
    "\"\"\"\n",
    "Determine the labels for the dataset\n",
    "\"\"\"\n",
    "def get_label(conv_id):\n",
    "    if conv_id.endswith('_A') or conv_id.endswith('_B'):\n",
    "        return 'winning'\n",
    "    else:\n",
    "        return 'awry'\n",
    "\n",
    "\"\"\" \n",
    "Get the dataset which the conversation belongs to awry or winning\n",
    "\"\"\"\n",
    "def dataset_labels(df):\n",
    "    df['dataset'] = df['CONV_ID'].apply(get_label)\n",
    "    "
   ]
  },
  {
   "cell_type": "code",
   "execution_count": 189,
   "metadata": {},
   "outputs": [],
   "source": [
    "\"\"\"\n",
    "Drop unncessary columns \n",
    "\"\"\"\n",
    "def drop_cols(df):\n",
    "    return df[['d_content_average', 'd_expression_average', 'oi_content_average',\n",
    "       'oi_expression_average', 'dataset']]"
   ]
  },
  {
   "cell_type": "code",
   "execution_count": 190,
   "metadata": {},
   "outputs": [],
   "source": [
    "# get the dataset to which the chat belongs\n",
    "dataset_labels(data)\n",
    "\n",
    "#convert the text labels to numeric labels\n",
    "convert_labels(data)\n",
    "\n",
    "#get the average rating for each chat\n",
    "numeric_cols = ['d_content', 'd_expression', 'oi_content', 'oi_expression']\n",
    "data = average_labels(data,numeric_cols)"
   ]
  },
  {
   "cell_type": "code",
   "execution_count": 191,
   "metadata": {},
   "outputs": [
    {
     "name": "stdout",
     "output_type": "stream",
     "text": [
      "awry convos 32\n",
      "winning convos 26\n"
     ]
    }
   ],
   "source": [
    "print('awry convos ' + str(data[data['dataset'] == 'awry']['CONV_ID'].nunique()))\n",
    "print('winning convos ' + str(data[data['dataset'] == 'winning']['CONV_ID'].nunique()))"
   ]
  },
  {
   "cell_type": "code",
   "execution_count": 192,
   "metadata": {},
   "outputs": [],
   "source": [
    "new_data = drop_cols(data)"
   ]
  },
  {
   "cell_type": "code",
   "execution_count": 193,
   "metadata": {},
   "outputs": [
    {
     "data": {
      "text/plain": [
       "Index(['d_content_average', 'd_expression_average', 'oi_content_average',\n",
       "       'oi_expression_average', 'dataset'],\n",
       "      dtype='object')"
      ]
     },
     "execution_count": 193,
     "metadata": {},
     "output_type": "execute_result"
    }
   ],
   "source": [
    "new_data.columns"
   ]
  },
  {
   "cell_type": "markdown",
   "metadata": {},
   "source": [
    "### Step2 : Logistic Regression"
   ]
  },
  {
   "cell_type": "code",
   "execution_count": 194,
   "metadata": {},
   "outputs": [],
   "source": [
    "from sklearn.model_selection import train_test_split\n",
    "from sklearn.linear_model import LogisticRegression\n",
    "from sklearn.metrics import accuracy_score, classification_report"
   ]
  },
  {
   "cell_type": "code",
   "execution_count": 195,
   "metadata": {},
   "outputs": [],
   "source": [
    "\n",
    "def run_logistic_regression(df,target_column):\n",
    "\n",
    "    # Split features and target\n",
    "    X = df.drop(target_column, axis=1)  # Features\n",
    "    y = df[target_column]   \n",
    "\n",
    "    X_train, X_test, y_train, y_test = train_test_split(X, y, test_size=0.2, random_state=19104)\n",
    "    model = LogisticRegression()\n",
    "    model.fit(X_train, y_train)\n",
    "\n",
    "    y_pred = model.predict(X_test)\n",
    "    print(\"Accuracy:\", accuracy_score(y_test, y_pred))\n",
    "    print(classification_report(y_test, y_pred))"
   ]
  },
  {
   "cell_type": "code",
   "execution_count": 196,
   "metadata": {},
   "outputs": [
    {
     "name": "stdout",
     "output_type": "stream",
     "text": [
      "Accuracy: 0.6490066225165563\n",
      "              precision    recall  f1-score   support\n",
      "\n",
      "        awry       0.66      0.97      0.79       201\n",
      "     winning       0.14      0.01      0.02       101\n",
      "\n",
      "    accuracy                           0.65       302\n",
      "   macro avg       0.40      0.49      0.40       302\n",
      "weighted avg       0.49      0.65      0.53       302\n",
      "\n"
     ]
    }
   ],
   "source": [
    "run_logistic_regression(new_data,'dataset')"
   ]
  },
  {
   "cell_type": "markdown",
   "metadata": {},
   "source": [
    "### Step 3 : Calculating TPM Features on the conflict dataset"
   ]
  },
  {
   "cell_type": "code",
   "execution_count": null,
   "metadata": {},
   "outputs": [],
   "source": []
  }
 ],
 "metadata": {
  "kernelspec": {
   "display_name": "Python 3",
   "language": "python",
   "name": "python3"
  },
  "language_info": {
   "codemirror_mode": {
    "name": "ipython",
    "version": 3
   },
   "file_extension": ".py",
   "mimetype": "text/x-python",
   "name": "python",
   "nbconvert_exporter": "python",
   "pygments_lexer": "ipython3",
   "version": "3.10.7"
  }
 },
 "nbformat": 4,
 "nbformat_minor": 2
}
